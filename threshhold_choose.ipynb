{
 "cells": [
  {
   "cell_type": "code",
   "execution_count": 1,
   "metadata": {},
   "outputs": [],
   "source": [
    "from models import VariationalAutoencoder, Autoencoder\n",
    "from data_utils import CustomImageDataset\n",
    "import torch\n",
    "import os\n",
    "from torch.utils.data import DataLoader\n",
    "import torchvision.transforms as transforms\n",
    "import matplotlib.pyplot as plt \n",
    "import numpy as np\n",
    "\n",
    "plt.style.use(\"ggplot\")"
   ]
  },
  {
   "cell_type": "code",
   "execution_count": 2,
   "metadata": {},
   "outputs": [
    {
     "name": "stdout",
     "output_type": "stream",
     "text": [
      "Using device: cuda\n"
     ]
    }
   ],
   "source": [
    "device = 'cuda' if torch.cuda.is_available() else 'cpu'\n",
    "print('Using device:', device)"
   ]
  },
  {
   "cell_type": "code",
   "execution_count": 3,
   "metadata": {},
   "outputs": [],
   "source": [
    "transform = transforms.Compose(\n",
    "    [transforms.ToPILImage(),\n",
    "     transforms.Resize((28, 28)),\n",
    "     transforms.ToTensor(),\n",
    "     transforms.Normalize(mean=(0), std=(1))])"
   ]
  },
  {
   "cell_type": "code",
   "execution_count": 4,
   "metadata": {},
   "outputs": [],
   "source": [
    "proliv_data_path = \"./homework_2_dataset/dataset/proliv\"\n",
    "proliv_dataset = CustomImageDataset(os.path.join(proliv_data_path, \"annotation.txt\"), os.path.join(proliv_data_path, \"imgs\"), transform=transform)\n",
    "proliv_dataloader = DataLoader(proliv_dataset, batch_size=1, shuffle=True)"
   ]
  },
  {
   "cell_type": "code",
   "execution_count": 5,
   "metadata": {},
   "outputs": [],
   "source": [
    "ne_proliv_data_path = \"./homework_2_dataset/dataset/train\"\n",
    "ne_proliv_dataset = CustomImageDataset(os.path.join(ne_proliv_data_path, \"annotation.txt\"), os.path.join(ne_proliv_data_path, \"imgs\"), transform=transform)\n",
    "ne_proliv_dataloader = DataLoader(ne_proliv_dataset, batch_size=1, shuffle=True)"
   ]
  },
  {
   "cell_type": "code",
   "execution_count": 6,
   "metadata": {},
   "outputs": [
    {
     "data": {
      "text/plain": [
       "Autoencoder(\n",
       "  (encoder): Encoder(\n",
       "    (linear1): Linear(in_features=2352, out_features=512, bias=True)\n",
       "    (linear2): Linear(in_features=512, out_features=16, bias=True)\n",
       "  )\n",
       "  (decoder): Decoder(\n",
       "    (linear1): Linear(in_features=16, out_features=512, bias=True)\n",
       "    (linear2): Linear(in_features=512, out_features=2352, bias=True)\n",
       "  )\n",
       ")"
      ]
     },
     "execution_count": 6,
     "metadata": {},
     "output_type": "execute_result"
    }
   ],
   "source": [
    "ae = Autoencoder(16).to(device) # GPU\n",
    "ae.load_state_dict(torch.load(\"./autoencoders/AE\"))\n",
    "ae.eval()"
   ]
  },
  {
   "cell_type": "code",
   "execution_count": 7,
   "metadata": {},
   "outputs": [
    {
     "data": {
      "text/plain": [
       "VariationalAutoencoder(\n",
       "  (encoder): VariationalEncoder(\n",
       "    (linear1): Linear(in_features=2352, out_features=512, bias=True)\n",
       "    (linear2): Linear(in_features=512, out_features=16, bias=True)\n",
       "    (linear3): Linear(in_features=512, out_features=16, bias=True)\n",
       "  )\n",
       "  (decoder): Decoder(\n",
       "    (linear1): Linear(in_features=16, out_features=512, bias=True)\n",
       "    (linear2): Linear(in_features=512, out_features=2352, bias=True)\n",
       "  )\n",
       ")"
      ]
     },
     "execution_count": 7,
     "metadata": {},
     "output_type": "execute_result"
    }
   ],
   "source": [
    "vae = VariationalAutoencoder(16).to(device) # GPU\n",
    "vae.load_state_dict(torch.load(\"./autoencoders/VAE\"))\n",
    "vae.eval()"
   ]
  },
  {
   "cell_type": "markdown",
   "metadata": {},
   "source": [
    "## Определения порога loss"
   ]
  },
  {
   "cell_type": "markdown",
   "metadata": {},
   "source": [
    "### AE"
   ]
  },
  {
   "cell_type": "code",
   "execution_count": 8,
   "metadata": {},
   "outputs": [
    {
     "data": {
      "text/plain": [
       "8.36150242446305"
      ]
     },
     "execution_count": 8,
     "metadata": {},
     "output_type": "execute_result"
    }
   ],
   "source": [
    "proliv_dataloader_loss = 0\n",
    "proliv_losses = []\n",
    "with torch.no_grad():\n",
    "    count = 0\n",
    "    for x, y in proliv_dataloader:\n",
    "        count += 1\n",
    "        x = x.to(device) # GPU\n",
    "        x_hat = ae(x)\n",
    "        loss = ((x - x_hat)**2).sum()\n",
    "        proliv_losses.append(loss.cpu())\n",
    "        proliv_dataloader_loss += loss.item()\n",
    "\n",
    "proliv_dataloader_loss / count"
   ]
  },
  {
   "cell_type": "code",
   "execution_count": 9,
   "metadata": {},
   "outputs": [
    {
     "data": {
      "text/plain": [
       "0.7255064701020718"
      ]
     },
     "execution_count": 9,
     "metadata": {},
     "output_type": "execute_result"
    }
   ],
   "source": [
    "ne_proliv_losses = []\n",
    "ne_proliv_dataloader_loss = 0\n",
    "with torch.no_grad():\n",
    "    count = 0\n",
    "    for x, y in ne_proliv_dataloader:\n",
    "        count += 1\n",
    "        x = x.to(device) # GPU\n",
    "        x_hat = ae(x)\n",
    "        loss = ((x - x_hat)**2).sum()\n",
    "        ne_proliv_losses.append(loss.cpu())\n",
    "        ne_proliv_dataloader_loss += loss.item()\n",
    "\n",
    "ne_proliv_dataloader_loss / count"
   ]
  },
  {
   "cell_type": "code",
   "execution_count": 10,
   "metadata": {},
   "outputs": [
    {
     "data": {
      "image/png": "[encoded data removed]",
      "text/plain": [
       "<Figure size 1500x500 with 1 Axes>"
      ]
     },
     "metadata": {},
     "output_type": "display_data"
    }
   ],
   "source": [
    "plt.figure(figsize=(15, 5))\n",
    "plt.hist(proliv_losses, bins=30, label=\"proliv\") \n",
    "plt.legend() \n",
    "plt.show()"
   ]
  },
  {
   "cell_type": "code",
   "execution_count": 11,
   "metadata": {},
   "outputs": [
    {
     "data": {
      "image/png": "[encoded data removed]",
      "text/plain": [
       "<Figure size 1500x500 with 1 Axes>"
      ]
     },
     "metadata": {},
     "output_type": "display_data"
    }
   ],
   "source": [
    "plt.figure(figsize=(15, 5))\n",
    "plt.hist(ne_proliv_losses, bins=30, label=\"ne_proliv\") \n",
    "plt.legend() \n",
    "plt.show()"
   ]
  },
  {
   "cell_type": "code",
   "execution_count": 12,
   "metadata": {},
   "outputs": [
    {
     "name": "stdout",
     "output_type": "stream",
     "text": [
      "MIN: 4.67, MAX: 13.70, MEAN: 8.36, STD: 1.76\n"
     ]
    }
   ],
   "source": [
    "print(f\"MIN: {min(proliv_losses):.2f}, MAX: {max(proliv_losses):.2f}, MEAN: {(sum(proliv_losses) / len(proliv_losses)):.2f}, STD: {np.std(proliv_losses):.2f}\")"
   ]
  },
  {
   "cell_type": "code",
   "execution_count": 13,
   "metadata": {},
   "outputs": [
    {
     "name": "stdout",
     "output_type": "stream",
     "text": [
      "MIN: 0.24, MAX: 9.48, MEAN: 0.73, STD: 0.47\n"
     ]
    }
   ],
   "source": [
    "print(f\"MIN: {min(ne_proliv_losses):.2f}, MAX: {max(ne_proliv_losses):.2f}, MEAN: {(sum(ne_proliv_losses) / len(ne_proliv_losses)):.2f}, STD: {np.std(ne_proliv_losses):.2f}\")"
   ]
  },
  {
   "cell_type": "markdown",
   "metadata": {},
   "source": [
    "### VAE"
   ]
  },
  {
   "cell_type": "code",
   "execution_count": 14,
   "metadata": {},
   "outputs": [
    {
     "data": {
      "text/plain": [
       "7.408936564024392"
      ]
     },
     "execution_count": 14,
     "metadata": {},
     "output_type": "execute_result"
    }
   ],
   "source": [
    "proliv_dataloader_loss = 0\n",
    "proliv_losses = []\n",
    "with torch.no_grad():\n",
    "    count = 0\n",
    "    for x, y in proliv_dataloader:\n",
    "        count += 1\n",
    "        x = x.to(device) # GPU\n",
    "        x_hat = vae(x)\n",
    "        loss = ((x - x_hat)**2).sum()\n",
    "        proliv_losses.append(loss.cpu())\n",
    "        proliv_dataloader_loss += loss.item()\n",
    "\n",
    "proliv_dataloader_loss / count"
   ]
  },
  {
   "cell_type": "code",
   "execution_count": 15,
   "metadata": {},
   "outputs": [
    {
     "data": {
      "text/plain": [
       "0.6449120771661401"
      ]
     },
     "execution_count": 15,
     "metadata": {},
     "output_type": "execute_result"
    }
   ],
   "source": [
    "ne_proliv_dataloader_loss = 0\n",
    "ne_proliv_losses = []\n",
    "with torch.no_grad():\n",
    "    count = 0\n",
    "    for x, y in ne_proliv_dataloader:\n",
    "        count += 1\n",
    "        x = x.to(device) # GPU\n",
    "        x_hat = vae(x)\n",
    "        loss = ((x - x_hat)**2).sum()\n",
    "        ne_proliv_losses.append(loss.cpu())\n",
    "        ne_proliv_dataloader_loss += loss.item()\n",
    "\n",
    "ne_proliv_dataloader_loss / count"
   ]
  },
  {
   "cell_type": "code",
   "execution_count": 16,
   "metadata": {},
   "outputs": [
    {
     "data": {
      "image/png": "[encoded data removed]",
      "text/plain": [
       "<Figure size 1500x500 with 1 Axes>"
      ]
     },
     "metadata": {},
     "output_type": "display_data"
    }
   ],
   "source": [
    "plt.figure(figsize=(15, 5))\n",
    "plt.hist(proliv_losses, bins=30, label=\"proliv\") \n",
    "plt.legend() \n",
    "plt.show()"
   ]
  },
  {
   "cell_type": "code",
   "execution_count": 17,
   "metadata": {},
   "outputs": [
    {
     "data": {
      "image/png": "[encoded data removed]",
      "text/plain": [
       "<Figure size 1500x500 with 1 Axes>"
      ]
     },
     "metadata": {},
     "output_type": "display_data"
    }
   ],
   "source": [
    "plt.figure(figsize=(15, 5))\n",
    "plt.hist(ne_proliv_losses, bins=30, label=\"ne_proliv\") \n",
    "plt.legend() \n",
    "plt.show()"
   ]
  },
  {
   "cell_type": "code",
   "execution_count": 19,
   "metadata": {},
   "outputs": [
    {
     "name": "stdout",
     "output_type": "stream",
     "text": [
      "MIN: 3.91, MAX: 14.15, MEAN: 7.41, STD: 1.89\n"
     ]
    }
   ],
   "source": [
    "print(f\"MIN: {min(proliv_losses):.2f}, MAX: {max(proliv_losses):.2f}, MEAN: {(sum(proliv_losses) / len(proliv_losses)):.2f}, STD: {np.std(proliv_losses):.2f}\")"
   ]
  },
  {
   "cell_type": "code",
   "execution_count": 18,
   "metadata": {},
   "outputs": [
    {
     "name": "stdout",
     "output_type": "stream",
     "text": [
      "MIN: 0.24, MAX: 7.79, MEAN: 0.64, STD: 0.33\n"
     ]
    }
   ],
   "source": [
    "print(f\"MIN: {min(ne_proliv_losses):.2f}, MAX: {max(ne_proliv_losses):.2f}, MEAN: {(sum(ne_proliv_losses) / len(ne_proliv_losses)):.2f}, STD: {np.std(ne_proliv_losses):.2f}\")"
   ]
  }
 ],
 "metadata": {
  "kernelspec": {
   "display_name": "venv",
   "language": "python",
   "name": "python3"
  },
  "language_info": {
   "codemirror_mode": {
    "name": "ipython",
    "version": 3
   },
   "file_extension": ".py",
   "mimetype": "text/x-python",
   "name": "python",
   "nbconvert_exporter": "python",
   "pygments_lexer": "ipython3",
   "version": "3.11.6"
  }
 },
 "nbformat": 4,
 "nbformat_minor": 2
}
