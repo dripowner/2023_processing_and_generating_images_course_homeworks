{
 "cells": [
  {
   "cell_type": "code",
   "execution_count": 1,
   "metadata": {},
   "outputs": [],
   "source": [
    "from models import VariationalAutoencoder, Autoencoder, ConvAutoencoder, ConvVAE, MyModel\n",
    "from data_utils import CustomImageDataset\n",
    "import torch\n",
    "import os\n",
    "from torch.utils.data import DataLoader\n",
    "import torchvision.transforms as transforms\n",
    "import matplotlib.pyplot as plt\n",
    "\n",
    "plt.style.use(\"ggplot\")"
   ]
  },
  {
   "cell_type": "code",
   "execution_count": 2,
   "metadata": {},
   "outputs": [
    {
     "name": "stdout",
     "output_type": "stream",
     "text": [
      "Using device: cuda\n"
     ]
    }
   ],
   "source": [
    "device = 'cuda' if torch.cuda.is_available() else 'cpu'\n",
    "print('Using device:', device)"
   ]
  },
  {
   "cell_type": "code",
   "execution_count": 3,
   "metadata": {},
   "outputs": [],
   "source": [
    "transform = transforms.Compose(\n",
    "    [transforms.ToPILImage(),\n",
    "     transforms.CenterCrop(28),\n",
    "     transforms.ToTensor(),\n",
    "     transforms.Normalize(mean=(0), std=(1)),\n",
    "     transforms.GaussianBlur(kernel_size=(5, 5)),\n",
    "     ])"
   ]
  },
  {
   "cell_type": "code",
   "execution_count": 4,
   "metadata": {},
   "outputs": [],
   "source": [
    "proliv_data_path = \"./homework_2_dataset/dataset/proliv\"\n",
    "proliv_dataset = CustomImageDataset(os.path.join(proliv_data_path, \"annotation.txt\"), os.path.join(proliv_data_path, \"imgs\"), transform=transform)\n",
    "proliv_dataloader = DataLoader(proliv_dataset, batch_size=1, shuffle=True)"
   ]
  },
  {
   "cell_type": "markdown",
   "metadata": {},
   "source": [
    "## Определения порога loss"
   ]
  },
  {
   "cell_type": "markdown",
   "metadata": {},
   "source": [
    "В качестве порога Loss будем брать значение с наименьшим True Positive Rate > 0.91, чтобы максимизировать True Negative Rate"
   ]
  },
  {
   "cell_type": "markdown",
   "metadata": {},
   "source": [
    "### AE"
   ]
  },
  {
   "cell_type": "code",
   "execution_count": 5,
   "metadata": {},
   "outputs": [
    {
     "data": {
      "text/plain": [
       "Autoencoder(\n",
       "  (encoder): Encoder(\n",
       "    (linear1): Linear(in_features=2352, out_features=512, bias=True)\n",
       "    (linear2): Linear(in_features=512, out_features=16, bias=True)\n",
       "  )\n",
       "  (decoder): Decoder(\n",
       "    (linear1): Linear(in_features=16, out_features=512, bias=True)\n",
       "    (linear2): Linear(in_features=512, out_features=2352, bias=True)\n",
       "  )\n",
       ")"
      ]
     },
     "execution_count": 5,
     "metadata": {},
     "output_type": "execute_result"
    }
   ],
   "source": [
    "ae = Autoencoder(16).to(device) # GPU\n",
    "ae.load_state_dict(torch.load(\"./autoencoders/AE\"))\n",
    "ae.eval()"
   ]
  },
  {
   "cell_type": "code",
   "execution_count": 6,
   "metadata": {},
   "outputs": [
    {
     "name": "stdout",
     "output_type": "stream",
     "text": [
      "choosen threshold: 4.5\n"
     ]
    }
   ],
   "source": [
    "losses = []\n",
    "true = []\n",
    "for x, y in proliv_dataloader:\n",
    "    true.append(int(y[0]))\n",
    "    x = x.to(device) # GPU\n",
    "    reconstruction = ae(x)\n",
    "    loss = ((x - reconstruction)**2).sum()\n",
    "    losses.append(loss.item())\n",
    "\n",
    "\n",
    "thresolds, tp_rate = [], []\n",
    "best_tresholds = []\n",
    "for thresh in range(10, 80, 1):\n",
    "    tp, fp, tn, fn = 0, 0, 0, 0\n",
    "    for loss, y in zip(losses, true):\n",
    "        if loss >= (thresh / 10):\n",
    "            y_pred = 1\n",
    "        else:\n",
    "            y_pred = 0\n",
    "        \n",
    "        if y == 1 and y_pred == 1:\n",
    "            tp += 1\n",
    "        elif y == 1 and y_pred == 0:\n",
    "            fn += 1\n",
    "        elif y == 0 and y_pred == 1:\n",
    "            fp += 1\n",
    "        elif y == 0 and y_pred == 0:\n",
    "            tn += 1\n",
    "    \n",
    "    thresolds.append(thresh / 10)\n",
    "    tp_rate.append(tp / (tp + fn))\n",
    "\n",
    "    if tp / (tp + fn) > 0.91:\n",
    "        best_tresholds.append(thresh / 10)\n",
    "        # print(f\"threshold = {(thresh / 10):.2f}: True Positive Rate: {(tp / (tp + fn)):.2f}\")\n",
    "\n",
    "if len(best_tresholds) > 0:\n",
    "    print(f\"choosen threshold: {best_tresholds[-1]}\")\n",
    "else:\n",
    "    print(\"no possible thresholds\")"
   ]
  },
  {
   "cell_type": "markdown",
   "metadata": {},
   "source": [
    "### VAE"
   ]
  },
  {
   "cell_type": "code",
   "execution_count": 7,
   "metadata": {},
   "outputs": [
    {
     "data": {
      "text/plain": [
       "VariationalAutoencoder(\n",
       "  (encoder): VariationalEncoder(\n",
       "    (linear1): Linear(in_features=2352, out_features=512, bias=True)\n",
       "    (linear2): Linear(in_features=512, out_features=16, bias=True)\n",
       "    (linear3): Linear(in_features=512, out_features=16, bias=True)\n",
       "  )\n",
       "  (decoder): Decoder(\n",
       "    (linear1): Linear(in_features=16, out_features=512, bias=True)\n",
       "    (linear2): Linear(in_features=512, out_features=2352, bias=True)\n",
       "  )\n",
       ")"
      ]
     },
     "execution_count": 7,
     "metadata": {},
     "output_type": "execute_result"
    }
   ],
   "source": [
    "vae = VariationalAutoencoder(16).to(device) # GPU\n",
    "vae.load_state_dict(torch.load(\"./autoencoders/VAE\"))\n",
    "vae.eval()"
   ]
  },
  {
   "cell_type": "code",
   "execution_count": 8,
   "metadata": {},
   "outputs": [
    {
     "name": "stdout",
     "output_type": "stream",
     "text": [
      "choosen threshold: 17.3\n"
     ]
    }
   ],
   "source": [
    "losses = []\n",
    "true = []\n",
    "for x, y in proliv_dataloader:\n",
    "    true.append(int(y[0]))\n",
    "    x = x.to(device) # GPU\n",
    "    reconstruction = vae(x)\n",
    "    loss = ((x - reconstruction)**2).sum() + vae.encoder.kl\n",
    "    losses.append(loss.item())\n",
    "\n",
    "\n",
    "thresolds, tp_rate = [], []\n",
    "best_tresholds = []\n",
    "for thresh in range(10, 2000, 1):\n",
    "    tp, fp, tn, fn = 0, 0, 0, 0\n",
    "    for loss, y in zip(losses, true):\n",
    "        if loss >= (thresh / 10):\n",
    "            y_pred = 1\n",
    "        else:\n",
    "            y_pred = 0\n",
    "        \n",
    "        if y == 1 and y_pred == 1:\n",
    "            tp += 1\n",
    "        elif y == 1 and y_pred == 0:\n",
    "            fn += 1\n",
    "        elif y == 0 and y_pred == 1:\n",
    "            fp += 1\n",
    "        elif y == 0 and y_pred == 0:\n",
    "            tn += 1\n",
    "    \n",
    "    thresolds.append(thresh / 10)\n",
    "    tp_rate.append(tp / (tp + fn))\n",
    "\n",
    "    if tp / (tp + fn) > 0.91:\n",
    "        best_tresholds.append(thresh / 10)\n",
    "        # print(f\"threshold = {(thresh / 10):.2f}: True Positive Rate: {(tp / (tp + fn)):.2f}\")\n",
    "\n",
    "if len(best_tresholds) > 0:\n",
    "    print(f\"choosen threshold: {best_tresholds[-1]}\")\n",
    "else:\n",
    "    print(\"no possible thresholds\")"
   ]
  },
  {
   "cell_type": "markdown",
   "metadata": {},
   "source": [
    "### convolutional AE"
   ]
  },
  {
   "cell_type": "code",
   "execution_count": 9,
   "metadata": {},
   "outputs": [
    {
     "data": {
      "text/plain": [
       "ConvAutoencoder(\n",
       "  (conv1): Conv2d(3, 16, kernel_size=(3, 3), stride=(1, 1), padding=(1, 1))\n",
       "  (conv2): Conv2d(16, 4, kernel_size=(3, 3), stride=(1, 1), padding=(1, 1))\n",
       "  (pool): MaxPool2d(kernel_size=2, stride=2, padding=0, dilation=1, ceil_mode=False)\n",
       "  (t_conv1): ConvTranspose2d(4, 16, kernel_size=(2, 2), stride=(2, 2))\n",
       "  (t_conv2): ConvTranspose2d(16, 3, kernel_size=(2, 2), stride=(2, 2))\n",
       ")"
      ]
     },
     "execution_count": 9,
     "metadata": {},
     "output_type": "execute_result"
    }
   ],
   "source": [
    "conv = ConvAutoencoder().to(device) # GPU\n",
    "conv.load_state_dict(torch.load(\"./autoencoders/conv_ae\"))\n",
    "conv.eval()"
   ]
  },
  {
   "cell_type": "code",
   "execution_count": 10,
   "metadata": {},
   "outputs": [
    {
     "name": "stdout",
     "output_type": "stream",
     "text": [
      "choosen threshold: 2.5\n"
     ]
    }
   ],
   "source": [
    "losses = []\n",
    "true = []\n",
    "for x, y in proliv_dataloader:\n",
    "    true.append(int(y[0]))\n",
    "    x = x.to(device) # GPU\n",
    "    reconstruction = conv(x)\n",
    "    loss = ((x - reconstruction)**2).sum()\n",
    "    losses.append(loss.item())\n",
    "\n",
    "\n",
    "thresolds, tp_rate = [], []\n",
    "best_tresholds = []\n",
    "for thresh in range(10, 200, 1):\n",
    "    tp, fp, tn, fn = 0, 0, 0, 0\n",
    "    for loss, y in zip(losses, true):\n",
    "        if loss >= (thresh / 10):\n",
    "            y_pred = 1\n",
    "        else:\n",
    "            y_pred = 0\n",
    "        \n",
    "        if y == 1 and y_pred == 1:\n",
    "            tp += 1\n",
    "        elif y == 1 and y_pred == 0:\n",
    "            fn += 1\n",
    "        elif y == 0 and y_pred == 1:\n",
    "            fp += 1\n",
    "        elif y == 0 and y_pred == 0:\n",
    "            tn += 1\n",
    "    \n",
    "    thresolds.append(thresh / 10)\n",
    "    tp_rate.append(tp / (tp + fn))\n",
    "\n",
    "    if tp / (tp + fn) > 0.91:\n",
    "        best_tresholds.append(thresh / 10)\n",
    "        # print(f\"threshold = {(thresh / 10):.2f}: True Positive Rate: {(tp / (tp + fn)):.2f}\")\n",
    "\n",
    "if len(best_tresholds) > 0:\n",
    "    print(f\"choosen threshold: {best_tresholds[-1]}\")\n",
    "else:\n",
    "    print(\"no possible thresholds\")"
   ]
  },
  {
   "cell_type": "markdown",
   "metadata": {},
   "source": [
    "### convolutional VAE"
   ]
  },
  {
   "cell_type": "code",
   "execution_count": 11,
   "metadata": {},
   "outputs": [
    {
     "data": {
      "text/plain": [
       "ConvVAE(\n",
       "  (criterion): MSELoss()\n",
       "  (Encoder): Sequential(\n",
       "    (0): Conv2d(3, 32, kernel_size=(5, 5), stride=(1, 1), padding=(1, 1))\n",
       "    (1): BatchNorm2d(32, eps=1e-05, momentum=0.1, affine=True, track_running_stats=True)\n",
       "    (2): ReLU()\n",
       "    (3): Dropout(p=0.25, inplace=False)\n",
       "    (4): Conv2d(32, 64, kernel_size=(5, 5), stride=(2, 2), padding=(1, 1))\n",
       "    (5): BatchNorm2d(64, eps=1e-05, momentum=0.1, affine=True, track_running_stats=True)\n",
       "    (6): ReLU()\n",
       "    (7): Dropout(p=0.25, inplace=False)\n",
       "    (8): Conv2d(64, 128, kernel_size=(3, 3), stride=(2, 2), padding=(1, 1))\n",
       "    (9): BatchNorm2d(128, eps=1e-05, momentum=0.1, affine=True, track_running_stats=True)\n",
       "    (10): ReLU()\n",
       "    (11): Dropout(p=0.25, inplace=False)\n",
       "    (12): Conv2d(128, 256, kernel_size=(5, 5), stride=(2, 2))\n",
       "    (13): BatchNorm2d(256, eps=1e-05, momentum=0.1, affine=True, track_running_stats=True)\n",
       "    (14): ReLU()\n",
       "    (15): Dropout(p=0.25, inplace=False)\n",
       "  )\n",
       "  (fc1): Linear(in_features=256, out_features=32, bias=True)\n",
       "  (fc_mu): Linear(in_features=32, out_features=16, bias=True)\n",
       "  (fc_log_var): Linear(in_features=32, out_features=16, bias=True)\n",
       "  (fc2): Linear(in_features=16, out_features=32, bias=True)\n",
       "  (fc3): Linear(in_features=32, out_features=256, bias=True)\n",
       "  (Decoder): Sequential(\n",
       "    (0): ConvTranspose2d(256, 128, kernel_size=(5, 5), stride=(1, 1))\n",
       "    (1): BatchNorm2d(128, eps=1e-05, momentum=0.1, affine=True, track_running_stats=True)\n",
       "    (2): ReLU()\n",
       "    (3): Dropout(p=0.25, inplace=False)\n",
       "    (4): ConvTranspose2d(128, 32, kernel_size=(5, 5), stride=(2, 2))\n",
       "    (5): BatchNorm2d(32, eps=1e-05, momentum=0.1, affine=True, track_running_stats=True)\n",
       "    (6): ReLU()\n",
       "    (7): Dropout(p=0.25, inplace=False)\n",
       "    (8): ConvTranspose2d(32, 3, kernel_size=(4, 4), stride=(2, 2))\n",
       "    (9): BatchNorm2d(3, eps=1e-05, momentum=0.1, affine=True, track_running_stats=True)\n",
       "    (10): Sigmoid()\n",
       "    (11): Dropout(p=0.25, inplace=False)\n",
       "  )\n",
       ")"
      ]
     },
     "execution_count": 11,
     "metadata": {},
     "output_type": "execute_result"
    }
   ],
   "source": [
    "conv_vae = ConvVAE().to(device) # GPU\n",
    "conv_vae.load_state_dict(torch.load(\"./autoencoders/conv_vae\"))\n",
    "conv_vae.eval()"
   ]
  },
  {
   "cell_type": "code",
   "execution_count": 12,
   "metadata": {},
   "outputs": [
    {
     "name": "stdout",
     "output_type": "stream",
     "text": [
      "choosen threshold: 0.019\n"
     ]
    }
   ],
   "source": [
    "losses = []\n",
    "true = []\n",
    "for x, y in proliv_dataloader:\n",
    "    true.append(int(y[0]))\n",
    "    x = x.to(device) # GPU\n",
    "    reconstruction, mu, logvar = conv_vae(x)\n",
    "    loss = conv_vae.loss(reconstruction, mu, logvar, x)\n",
    "    losses.append(loss.item())\n",
    "\n",
    "\n",
    "thresolds, tp_rate = [], []\n",
    "best_tresholds = []\n",
    "for thresh in range(0, 150, 1):\n",
    "    tp, fp, tn, fn = 0, 0, 0, 0\n",
    "    for loss, y in zip(losses, true):\n",
    "        if loss >= (thresh / 1000):\n",
    "            y_pred = 1\n",
    "        else:\n",
    "            y_pred = 0\n",
    "        \n",
    "        if y == 1 and y_pred == 1:\n",
    "            tp += 1\n",
    "        elif y == 1 and y_pred == 0:\n",
    "            fn += 1\n",
    "        elif y == 0 and y_pred == 1:\n",
    "            fp += 1\n",
    "        elif y == 0 and y_pred == 0:\n",
    "            tn += 1\n",
    "    \n",
    "    thresolds.append(thresh / 1000)\n",
    "    tp_rate.append(tp / (tp + fn))\n",
    "\n",
    "    if tp / (tp + fn) > 0.91:\n",
    "        best_tresholds.append(thresh / 1000)\n",
    "        # print(f\"threshold = {(thresh / 1000):.3f}: True Positive Rate: {(tp / (tp + fn)):.2f}\")\n",
    "\n",
    "if len(best_tresholds) > 0:\n",
    "    print(f\"choosen threshold: {best_tresholds[-1]}\")\n",
    "else:\n",
    "    print(\"no possible thresholds\")"
   ]
  },
  {
   "cell_type": "markdown",
   "metadata": {},
   "source": [
    "### MyModel"
   ]
  },
  {
   "cell_type": "code",
   "execution_count": 13,
   "metadata": {},
   "outputs": [
    {
     "data": {
      "text/plain": [
       "MyModel(\n",
       "  (criterion): MSELoss()\n",
       "  (Encoder): Sequential(\n",
       "    (0): Conv2d(3, 6, kernel_size=(3, 3), stride=(2, 2), padding=(1, 1))\n",
       "    (1): ReLU()\n",
       "  )\n",
       "  (fc1): Linear(in_features=1176, out_features=512, bias=True)\n",
       "  (fc_mu): Linear(in_features=512, out_features=32, bias=True)\n",
       "  (fc_log_var): Linear(in_features=512, out_features=32, bias=True)\n",
       "  (fc2): Linear(in_features=32, out_features=1176, bias=True)\n",
       "  (Decoder): Sequential(\n",
       "    (0): Linear(in_features=1176, out_features=2352, bias=True)\n",
       "    (1): Sigmoid()\n",
       "  )\n",
       ")"
      ]
     },
     "execution_count": 13,
     "metadata": {},
     "output_type": "execute_result"
    }
   ],
   "source": [
    "mm = MyModel().to(device) # GPU\n",
    "mm.load_state_dict(torch.load(\"./autoencoders/my_model\"))\n",
    "mm.eval()"
   ]
  },
  {
   "cell_type": "code",
   "execution_count": 14,
   "metadata": {},
   "outputs": [
    {
     "name": "stdout",
     "output_type": "stream",
     "text": [
      "choosen threshold: 0.002\n"
     ]
    }
   ],
   "source": [
    "losses = []\n",
    "true = []\n",
    "for x, y in proliv_dataloader:\n",
    "    true.append(int(y[0]))\n",
    "    x = x.to(device) # GPU\n",
    "    reconstruction, mu, logvar = mm(x)\n",
    "    loss = mm.loss(reconstruction, x)\n",
    "    losses.append(loss.item())\n",
    "\n",
    "\n",
    "thresolds, tp_rate = [], []\n",
    "best_tresholds = []\n",
    "for thresh in range(0, 100, 1):\n",
    "    tp, fp, tn, fn = 0, 0, 0, 0\n",
    "    for loss, y in zip(losses, true):\n",
    "        if loss >= (thresh / 10000):\n",
    "            y_pred = 1\n",
    "        else:\n",
    "            y_pred = 0\n",
    "        \n",
    "        if y == 1 and y_pred == 1:\n",
    "            tp += 1\n",
    "        elif y == 1 and y_pred == 0:\n",
    "            fn += 1\n",
    "        elif y == 0 and y_pred == 1:\n",
    "            fp += 1\n",
    "        elif y == 0 and y_pred == 0:\n",
    "            tn += 1\n",
    "    \n",
    "    thresolds.append(thresh / 10000)\n",
    "    tp_rate.append(tp / (tp + fn))\n",
    "\n",
    "    if tp / (tp + fn) > 0.91:\n",
    "        best_tresholds.append(thresh / 10000)\n",
    "        # print(f\"threshold = {(thresh / 10000):.4f}: True Positive Rate: {(tp / (tp + fn)):.2f}\")\n",
    "\n",
    "if len(best_tresholds) > 0:\n",
    "    print(f\"choosen threshold: {best_tresholds[-1]}\")\n",
    "else:\n",
    "    print(\"no possible thresholds\")"
   ]
  }
 ],
 "metadata": {
  "kernelspec": {
   "display_name": "venv",
   "language": "python",
   "name": "python3"
  },
  "language_info": {
   "codemirror_mode": {
    "name": "ipython",
    "version": 3
   },
   "file_extension": ".py",
   "mimetype": "text/x-python",
   "name": "python",
   "nbconvert_exporter": "python",
   "pygments_lexer": "ipython3",
   "version": "3.11.6"
  }
 },
 "nbformat": 4,
 "nbformat_minor": 2
}
