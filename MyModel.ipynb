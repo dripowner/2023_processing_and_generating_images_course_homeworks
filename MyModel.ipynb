{
 "cells": [
  {
   "cell_type": "code",
   "execution_count": 258,
   "metadata": {},
   "outputs": [],
   "source": [
    "from data_utils import CustomImageDataset\n",
    "import torch\n",
    "import os\n",
    "from torch.utils.data import DataLoader\n",
    "import torchvision.transforms as transforms\n",
    "import tqdm\n",
    "import torch.nn as nn\n",
    "import torch.nn.functional as F\n",
    "import numpy as np\n",
    "import matplotlib.pyplot as plt"
   ]
  },
  {
   "cell_type": "code",
   "execution_count": 259,
   "metadata": {},
   "outputs": [],
   "source": [
    "plt.style.use(\"ggplot\")"
   ]
  },
  {
   "cell_type": "code",
   "execution_count": 260,
   "metadata": {},
   "outputs": [],
   "source": [
    "class MyModel(nn.Module):\n",
    "    def __init__(self, latent_dim=32, dropout=0.15, input_c=3) -> None:\n",
    "        super().__init__()\n",
    "        self.input_c = input_c\n",
    "        self.criterion = nn.MSELoss()\n",
    "\n",
    "        self.Encoder = nn.Sequential(\n",
    "            nn.Conv2d(input_c, 6, 3, stride=2, padding=1), # 14x14\n",
    "            nn.ReLU(),\n",
    "            # nn.Conv2d(8, 8, 3, stride=2, padding=1), # 7x7\n",
    "            # nn.ReLU(),\n",
    "            # nn.MaxPool2d(3, stride=2, padding=1), # 7x7\n",
    "        )\n",
    "        self.fc1 = nn.Linear(6*14*14, 512)\n",
    "        self.fc_mu = nn.Linear(512, latent_dim)\n",
    "        self.fc_log_var = nn.Linear(512, latent_dim)\n",
    "        self.fc2 = nn.Linear(latent_dim, 6*14*14)\n",
    "\n",
    "        self.Decoder = nn.Sequential(\n",
    "            nn.Linear(6*14*14, input_c*28*28),\n",
    "            nn.Sigmoid(),\n",
    "        )\n",
    "\n",
    "    def encoder(self, x):\n",
    "        return self.Encoder(x)\n",
    "    \n",
    "    def decoder(self, x):\n",
    "        return self.Decoder(x)\n",
    "    \n",
    "    def reparameterize(self, mu, log_var):\n",
    "        std = torch.exp(0.5*log_var) # standard deviation\n",
    "        eps = torch.randn_like(std) # `randn_like` as we need the same size\n",
    "        sample = mu + (eps * std) # sampling\n",
    "        return sample\n",
    "    \n",
    "    def loss(self, reconstruction, x):\n",
    "        return ((reconstruction - x)**2).sum()\n",
    " \n",
    "    def forward(self, x):\n",
    "        # encoding\n",
    "        encoded = self.encoder(x)\n",
    "        hidden = torch.flatten(encoded, 1)\n",
    "\n",
    "        hidden = self.fc1(hidden)\n",
    "        hidden = F.relu(hidden)\n",
    "\n",
    "        # get `mu` and `log_var`\n",
    "        mu = self.fc_mu(hidden)\n",
    "        log_var = self.fc_log_var(hidden)\n",
    "\n",
    "        # get the latent vector through reparameterization\n",
    "        z = self.reparameterize(mu, log_var)\n",
    "\n",
    "        z = self.fc2(z)\n",
    "        z = F.relu(z)\n",
    "\n",
    "        z = z.view(-1, 6, 14, 14)\n",
    "\n",
    "        z = torch.flatten(z, 1)\n",
    " \n",
    "        # decoding\n",
    "        reconstruction = self.decoder(z)\n",
    "        reconstruction = reconstruction.view((-1, self.input_c, 28, 28))\n",
    "\n",
    "        return reconstruction, mu, log_var"
   ]
  },
  {
   "cell_type": "code",
   "execution_count": 261,
   "metadata": {},
   "outputs": [
    {
     "data": {
      "text/plain": [
       "<torch._C.Generator at 0x258480d3dd0>"
      ]
     },
     "execution_count": 261,
     "metadata": {},
     "output_type": "execute_result"
    }
   ],
   "source": [
    "torch.manual_seed(0)"
   ]
  },
  {
   "cell_type": "code",
   "execution_count": 262,
   "metadata": {},
   "outputs": [
    {
     "name": "stdout",
     "output_type": "stream",
     "text": [
      "Using device: cuda\n"
     ]
    }
   ],
   "source": [
    "device = 'cuda' if torch.cuda.is_available() else 'cpu'\n",
    "print('Using device:', device)"
   ]
  },
  {
   "cell_type": "code",
   "execution_count": 263,
   "metadata": {},
   "outputs": [],
   "source": [
    "batch_size = 128"
   ]
  },
  {
   "cell_type": "code",
   "execution_count": 264,
   "metadata": {},
   "outputs": [],
   "source": [
    "# transform = transforms.Compose(\n",
    "#     [transforms.ToPILImage(),\n",
    "#      transforms.ToTensor(),\n",
    "#      transforms.Normalize(mean=(0), std=(1)),\n",
    "#      transforms.Resize((28, 28)),\n",
    "#      transforms.RandomAdjustSharpness(9, p=1),\n",
    "#      transforms.Grayscale(1),\n",
    "#      ])\n",
    "transform = transforms.Compose(\n",
    "    [transforms.ToPILImage(),\n",
    "     transforms.ToTensor(),\n",
    "     transforms.Normalize(mean=(0), std=(1)),\n",
    "     transforms.RandomAdjustSharpness(5, p=1),\n",
    "     transforms.Resize((28, 48)),\n",
    "     transforms.CenterCrop((28, 28)),\n",
    "     transforms.GaussianBlur(3),\n",
    "     ])"
   ]
  },
  {
   "cell_type": "code",
   "execution_count": 265,
   "metadata": {},
   "outputs": [],
   "source": [
    "train_data_path = \"./homework_2_dataset/dataset/train\"\n",
    "train_dataset = CustomImageDataset(os.path.join(train_data_path, \"annotation.txt\"), os.path.join(train_data_path, \"imgs\"), transform=transform)\n",
    "train_dataloader = DataLoader(train_dataset, batch_size=batch_size, shuffle=True)"
   ]
  },
  {
   "cell_type": "code",
   "execution_count": 266,
   "metadata": {},
   "outputs": [],
   "source": [
    "proliv_data_path = \"./homework_2_dataset/dataset/proliv\"\n",
    "proliv_dataset = CustomImageDataset(os.path.join(proliv_data_path, \"annotation.txt\"), os.path.join(proliv_data_path, \"imgs\"), transform=transform)\n",
    "proliv_dataloader = DataLoader(proliv_dataset, batch_size=batch_size, shuffle=True)"
   ]
  },
  {
   "cell_type": "code",
   "execution_count": 267,
   "metadata": {},
   "outputs": [],
   "source": [
    "test_data_path = \"./homework_2_dataset/dataset/test\"\n",
    "test_dataset = CustomImageDataset(os.path.join(test_data_path, \"annotation.txt\"), os.path.join(test_data_path, \"imgs\"), transform=transform)\n",
    "test_dataloader = DataLoader(test_dataset, batch_size=1, shuffle=True)"
   ]
  },
  {
   "cell_type": "code",
   "execution_count": 268,
   "metadata": {},
   "outputs": [
    {
     "name": "stderr",
     "output_type": "stream",
     "text": [
      "  0%|          | 0/12 [00:00<?, ?it/s]"
     ]
    },
    {
     "name": "stderr",
     "output_type": "stream",
     "text": [
      "e:\\2023_processing_and_generating_images_course_homeworks\\venv\\Lib\\site-packages\\torchvision\\transforms\\functional.py:1603: UserWarning: The default value of the antialias parameter of all the resizing transforms (Resize(), RandomResizedCrop(), etc.) will change from None to True in v0.17, in order to be consistent across the PIL and Tensor backends. To suppress this warning, directly pass antialias=True (recommended, future default), antialias=None (current default, which means False for Tensors and True for PIL), or antialias=False (only works on Tensors - PIL will still use antialiasing). This also applies if you are using the inference transforms from the models weights: update the call to weights.transforms(antialias=True).\n",
      "  warnings.warn(\n",
      "  8%|▊         | 1/12 [00:11<02:10, 11.84s/it]"
     ]
    },
    {
     "name": "stdout",
     "output_type": "stream",
     "text": [
      "epoch 0: train loss 5.852899551391602, validation loss 15.351829528808594\n"
     ]
    },
    {
     "name": "stderr",
     "output_type": "stream",
     "text": [
      " 17%|█▋        | 2/12 [00:23<02:00, 12.02s/it]"
     ]
    },
    {
     "name": "stdout",
     "output_type": "stream",
     "text": [
      "epoch 1: train loss 3.27339768409729, validation loss 14.385494232177734\n"
     ]
    },
    {
     "name": "stderr",
     "output_type": "stream",
     "text": [
      " 25%|██▌       | 3/12 [00:35<01:47, 11.92s/it]"
     ]
    },
    {
     "name": "stdout",
     "output_type": "stream",
     "text": [
      "epoch 2: train loss 2.525301456451416, validation loss 13.979569435119629\n"
     ]
    },
    {
     "name": "stderr",
     "output_type": "stream",
     "text": [
      " 33%|███▎      | 4/12 [00:47<01:35, 11.96s/it]"
     ]
    },
    {
     "name": "stdout",
     "output_type": "stream",
     "text": [
      "epoch 3: train loss 2.1726245880126953, validation loss 12.22163200378418\n"
     ]
    },
    {
     "name": "stderr",
     "output_type": "stream",
     "text": [
      " 42%|████▏     | 5/12 [00:59<01:23, 11.93s/it]"
     ]
    },
    {
     "name": "stdout",
     "output_type": "stream",
     "text": [
      "epoch 4: train loss 1.783233880996704, validation loss 12.12025260925293\n"
     ]
    },
    {
     "name": "stderr",
     "output_type": "stream",
     "text": [
      " 50%|█████     | 6/12 [01:11<01:11, 11.94s/it]"
     ]
    },
    {
     "name": "stdout",
     "output_type": "stream",
     "text": [
      "epoch 5: train loss 1.6100828647613525, validation loss 11.706855773925781\n"
     ]
    },
    {
     "name": "stderr",
     "output_type": "stream",
     "text": [
      " 58%|█████▊    | 7/12 [01:23<00:59, 12.00s/it]"
     ]
    },
    {
     "name": "stdout",
     "output_type": "stream",
     "text": [
      "epoch 6: train loss 1.4606637954711914, validation loss 11.189325332641602\n"
     ]
    },
    {
     "name": "stderr",
     "output_type": "stream",
     "text": [
      " 67%|██████▋   | 8/12 [01:35<00:47, 11.99s/it]"
     ]
    },
    {
     "name": "stdout",
     "output_type": "stream",
     "text": [
      "epoch 7: train loss 1.3215854167938232, validation loss 11.454132080078125\n"
     ]
    },
    {
     "name": "stderr",
     "output_type": "stream",
     "text": [
      " 75%|███████▌  | 9/12 [01:48<00:36, 12.23s/it]"
     ]
    },
    {
     "name": "stdout",
     "output_type": "stream",
     "text": [
      "epoch 8: train loss 1.2239679098129272, validation loss 11.220440864562988\n"
     ]
    },
    {
     "name": "stderr",
     "output_type": "stream",
     "text": [
      " 83%|████████▎ | 10/12 [02:00<00:24, 12.31s/it]"
     ]
    },
    {
     "name": "stdout",
     "output_type": "stream",
     "text": [
      "epoch 9: train loss 1.2100712060928345, validation loss 11.451695442199707\n"
     ]
    },
    {
     "name": "stderr",
     "output_type": "stream",
     "text": [
      " 92%|█████████▏| 11/12 [02:14<00:12, 12.60s/it]"
     ]
    },
    {
     "name": "stdout",
     "output_type": "stream",
     "text": [
      "epoch 10: train loss 1.0711833238601685, validation loss 10.973811149597168\n"
     ]
    },
    {
     "name": "stderr",
     "output_type": "stream",
     "text": [
      "100%|██████████| 12/12 [02:28<00:00, 12.36s/it]"
     ]
    },
    {
     "name": "stdout",
     "output_type": "stream",
     "text": [
      "epoch 11: train loss 1.0184966325759888, validation loss 10.925008773803711\n"
     ]
    },
    {
     "name": "stderr",
     "output_type": "stream",
     "text": [
      "\n"
     ]
    }
   ],
   "source": [
    "model = MyModel(input_c=3).to(device)\n",
    "opt = torch.optim.Adam(model.parameters())\n",
    "\n",
    "for epoch in tqdm.tqdm(range(12)):\n",
    "    model.train()\n",
    "    train_count = 0\n",
    "    running_loss = 0\n",
    "    for x, y in train_dataloader:\n",
    "        train_count += 1\n",
    "        x = x.to(device) # GPU\n",
    "        opt.zero_grad()\n",
    "        reconstruction, _, _ = model(x)\n",
    "        loss = model.loss(reconstruction, x)\n",
    "        running_loss += loss / batch_size\n",
    "        loss.backward()\n",
    "        opt.step()\n",
    "    \n",
    "    model.eval()\n",
    "    val_count = 0\n",
    "    val_loss = 0   \n",
    "    with torch.no_grad():\n",
    "        for x, y in proliv_dataloader:\n",
    "            val_count += 1\n",
    "            x = x.to(device) # GPU\n",
    "            reconstruction, _, _ = model(x)\n",
    "            loss = model.loss(reconstruction, x)\n",
    "            val_loss += loss / batch_size\n",
    "    print(f\"epoch {epoch}: train loss {running_loss / train_count}, validation loss {val_loss / val_count}\")"
   ]
  },
  {
   "cell_type": "code",
   "execution_count": 298,
   "metadata": {},
   "outputs": [
    {
     "name": "stdout",
     "output_type": "stream",
     "text": [
      "choosen threshold: 5.653000000000001\n"
     ]
    }
   ],
   "source": [
    "model.eval()\n",
    "proliv_dataloader = DataLoader(proliv_dataset, batch_size=1, shuffle=True)\n",
    "with torch.no_grad():\n",
    "    losses = []\n",
    "    true = []\n",
    "\n",
    "    for x, y in proliv_dataloader:\n",
    "\n",
    "        true.append(int(y[0]))\n",
    "        x = x.to(device) # GPU\n",
    "        reconstruction, _, _ = model(x)\n",
    "        loss = model.loss(reconstruction, x)\n",
    "        losses.append(loss.item())\n",
    "\n",
    "thresolds, tp_rate = [], []\n",
    "best_tresholds = []\n",
    "for thresh in range(1, 6000, 1):\n",
    "    tp, fp, tn, fn = 0, 0, 0, 0\n",
    "    for loss, y in zip(losses, true):\n",
    "        if loss >= (thresh / 100):\n",
    "            y_pred = 1\n",
    "        else:\n",
    "            y_pred = 0\n",
    "        \n",
    "        if y == 1 and y_pred == 1:\n",
    "            tp += 1\n",
    "        elif y == 1 and y_pred == 0:\n",
    "            fn += 1\n",
    "        elif y == 0 and y_pred == 1:\n",
    "            fp += 1\n",
    "        elif y == 0 and y_pred == 0:\n",
    "            tn += 1\n",
    "    \n",
    "    thresolds.append(thresh / 100)\n",
    "    tp_rate.append(tp / (tp + fn))\n",
    "\n",
    "    if tp / (tp + fn) == 1:\n",
    "        best_tresholds.append(thresh / 100)\n",
    "\n",
    "        # print(f\"threshold = {(thresh / 100):.2f}: True Positive Rate: {(tp / (tp + fn)):.2f}\")\n",
    "\n",
    "if len(best_tresholds) > 0:\n",
    "    print(f\"choosen threshold: {np.quantile(best_tresholds, 0.9)}\")\n",
    "else:\n",
    "    print(\"no possible thresholds\")"
   ]
  },
  {
   "cell_type": "code",
   "execution_count": 299,
   "metadata": {},
   "outputs": [
    {
     "name": "stdout",
     "output_type": "stream",
     "text": [
      "True Positive Rate: 0.938, True Negative Rate: 0.941, Threshold: 5.653000000000001\n"
     ]
    }
   ],
   "source": [
    "\n",
    "tp, fp, tn, fn = 0, 0, 0, 0\n",
    "for x, y in test_dataloader:\n",
    "\n",
    "    x = x.to(device) # GPU\n",
    "    reconstruction, _, _ = model(x)\n",
    "    loss = model.loss(reconstruction, x)\n",
    "\n",
    "    if loss >= np.quantile(best_tresholds, 0.9):\n",
    "        y_pred = 1\n",
    "    else:\n",
    "        y_pred = 0\n",
    "    \n",
    "    if int(y[0]) == 1 and y_pred == 1:\n",
    "        tp += 1\n",
    "    elif int(y[0]) == 1 and y_pred == 0:\n",
    "        fn += 1\n",
    "    elif int(y[0]) == 0 and y_pred == 1:\n",
    "        fp += 1\n",
    "    elif int(y[0]) == 0 and y_pred == 0:\n",
    "        tn += 1\n",
    "    \n",
    "tp_rate = tp / (tp + fn)\n",
    "tn_rate = tn / (tn + fp)\n",
    "\n",
    "print(f\"True Positive Rate: {(tp / (tp + fn)):.3f}, True Negative Rate: {(tn / (tn + fp)):.3f}, Threshold: {np.quantile(best_tresholds, 0.9)}\")"
   ]
  },
  {
   "cell_type": "code",
   "execution_count": 300,
   "metadata": {},
   "outputs": [
    {
     "name": "stdout",
     "output_type": "stream",
     "text": [
      "threshold = 4.87: True Positive Rate: 0.961, True Negative Rate: 0.911\n",
      "threshold = 4.88: True Positive Rate: 0.961, True Negative Rate: 0.912\n",
      "threshold = 4.89: True Positive Rate: 0.961, True Negative Rate: 0.912\n",
      "threshold = 4.90: True Positive Rate: 0.961, True Negative Rate: 0.913\n",
      "threshold = 4.91: True Positive Rate: 0.961, True Negative Rate: 0.914\n",
      "threshold = 4.92: True Positive Rate: 0.961, True Negative Rate: 0.914\n",
      "threshold = 4.93: True Positive Rate: 0.953, True Negative Rate: 0.915\n",
      "threshold = 4.94: True Positive Rate: 0.953, True Negative Rate: 0.915\n",
      "threshold = 4.95: True Positive Rate: 0.953, True Negative Rate: 0.915\n",
      "threshold = 4.96: True Positive Rate: 0.953, True Negative Rate: 0.915\n",
      "threshold = 4.97: True Positive Rate: 0.953, True Negative Rate: 0.917\n",
      "threshold = 4.98: True Positive Rate: 0.953, True Negative Rate: 0.917\n",
      "threshold = 4.99: True Positive Rate: 0.953, True Negative Rate: 0.918\n",
      "threshold = 5.00: True Positive Rate: 0.953, True Negative Rate: 0.918\n",
      "threshold = 5.01: True Positive Rate: 0.953, True Negative Rate: 0.920\n",
      "threshold = 5.02: True Positive Rate: 0.953, True Negative Rate: 0.921\n",
      "threshold = 5.03: True Positive Rate: 0.953, True Negative Rate: 0.921\n",
      "threshold = 5.04: True Positive Rate: 0.953, True Negative Rate: 0.922\n",
      "threshold = 5.05: True Positive Rate: 0.953, True Negative Rate: 0.923\n",
      "threshold = 5.06: True Positive Rate: 0.953, True Negative Rate: 0.923\n",
      "threshold = 5.07: True Positive Rate: 0.953, True Negative Rate: 0.924\n",
      "threshold = 5.08: True Positive Rate: 0.946, True Negative Rate: 0.925\n",
      "threshold = 5.09: True Positive Rate: 0.946, True Negative Rate: 0.925\n",
      "threshold = 5.10: True Positive Rate: 0.946, True Negative Rate: 0.926\n",
      "threshold = 5.11: True Positive Rate: 0.946, True Negative Rate: 0.927\n",
      "threshold = 5.12: True Positive Rate: 0.946, True Negative Rate: 0.928\n",
      "threshold = 5.13: True Positive Rate: 0.946, True Negative Rate: 0.928\n",
      "threshold = 5.14: True Positive Rate: 0.946, True Negative Rate: 0.928\n",
      "threshold = 5.15: True Positive Rate: 0.946, True Negative Rate: 0.928\n",
      "threshold = 5.16: True Positive Rate: 0.946, True Negative Rate: 0.929\n",
      "threshold = 5.17: True Positive Rate: 0.946, True Negative Rate: 0.929\n",
      "threshold = 5.18: True Positive Rate: 0.946, True Negative Rate: 0.930\n",
      "threshold = 5.19: True Positive Rate: 0.946, True Negative Rate: 0.931\n",
      "threshold = 5.20: True Positive Rate: 0.946, True Negative Rate: 0.931\n",
      "threshold = 5.21: True Positive Rate: 0.946, True Negative Rate: 0.931\n",
      "threshold = 5.22: True Positive Rate: 0.946, True Negative Rate: 0.932\n",
      "threshold = 5.23: True Positive Rate: 0.946, True Negative Rate: 0.932\n",
      "threshold = 5.24: True Positive Rate: 0.946, True Negative Rate: 0.933\n",
      "threshold = 5.25: True Positive Rate: 0.946, True Negative Rate: 0.933\n",
      "threshold = 5.26: True Positive Rate: 0.946, True Negative Rate: 0.934\n",
      "threshold = 5.27: True Positive Rate: 0.938, True Negative Rate: 0.934\n",
      "threshold = 5.28: True Positive Rate: 0.938, True Negative Rate: 0.935\n",
      "threshold = 5.29: True Positive Rate: 0.938, True Negative Rate: 0.936\n",
      "threshold = 5.30: True Positive Rate: 0.938, True Negative Rate: 0.936\n",
      "threshold = 5.31: True Positive Rate: 0.938, True Negative Rate: 0.936\n",
      "threshold = 5.32: True Positive Rate: 0.938, True Negative Rate: 0.936\n",
      "threshold = 5.33: True Positive Rate: 0.938, True Negative Rate: 0.936\n",
      "threshold = 5.34: True Positive Rate: 0.938, True Negative Rate: 0.936\n",
      "threshold = 5.35: True Positive Rate: 0.938, True Negative Rate: 0.937\n",
      "threshold = 5.36: True Positive Rate: 0.930, True Negative Rate: 0.937\n",
      "threshold = 5.37: True Positive Rate: 0.930, True Negative Rate: 0.938\n",
      "threshold = 5.38: True Positive Rate: 0.930, True Negative Rate: 0.938\n",
      "threshold = 5.39: True Positive Rate: 0.930, True Negative Rate: 0.939\n",
      "threshold = 5.40: True Positive Rate: 0.930, True Negative Rate: 0.939\n",
      "threshold = 5.41: True Positive Rate: 0.930, True Negative Rate: 0.939\n",
      "threshold = 5.42: True Positive Rate: 0.930, True Negative Rate: 0.939\n",
      "threshold = 5.43: True Positive Rate: 0.930, True Negative Rate: 0.939\n",
      "threshold = 5.44: True Positive Rate: 0.930, True Negative Rate: 0.939\n",
      "threshold = 5.45: True Positive Rate: 0.930, True Negative Rate: 0.940\n",
      "threshold = 5.46: True Positive Rate: 0.922, True Negative Rate: 0.941\n",
      "threshold = 5.47: True Positive Rate: 0.922, True Negative Rate: 0.941\n",
      "threshold = 5.48: True Positive Rate: 0.922, True Negative Rate: 0.941\n",
      "threshold = 5.49: True Positive Rate: 0.922, True Negative Rate: 0.942\n",
      "threshold = 5.50: True Positive Rate: 0.922, True Negative Rate: 0.942\n",
      "threshold = 5.51: True Positive Rate: 0.922, True Negative Rate: 0.942\n",
      "threshold = 5.52: True Positive Rate: 0.915, True Negative Rate: 0.943\n",
      "threshold = 5.53: True Positive Rate: 0.915, True Negative Rate: 0.944\n",
      "threshold = 5.54: True Positive Rate: 0.915, True Negative Rate: 0.944\n",
      "threshold = 5.55: True Positive Rate: 0.915, True Negative Rate: 0.944\n",
      "threshold = 5.56: True Positive Rate: 0.915, True Negative Rate: 0.944\n",
      "threshold = 5.57: True Positive Rate: 0.915, True Negative Rate: 0.944\n",
      "threshold = 5.58: True Positive Rate: 0.915, True Negative Rate: 0.945\n",
      "threshold = 5.59: True Positive Rate: 0.915, True Negative Rate: 0.946\n",
      "threshold = 5.60: True Positive Rate: 0.915, True Negative Rate: 0.947\n",
      "threshold = 5.61: True Positive Rate: 0.915, True Negative Rate: 0.947\n",
      "threshold = 5.62: True Positive Rate: 0.915, True Negative Rate: 0.947\n",
      "threshold = 5.63: True Positive Rate: 0.915, True Negative Rate: 0.948\n",
      "threshold = 5.64: True Positive Rate: 0.915, True Negative Rate: 0.948\n",
      "threshold = 5.65: True Positive Rate: 0.915, True Negative Rate: 0.948\n",
      "threshold = 5.66: True Positive Rate: 0.915, True Negative Rate: 0.948\n",
      "threshold = 5.67: True Positive Rate: 0.915, True Negative Rate: 0.949\n",
      "threshold = 5.68: True Positive Rate: 0.915, True Negative Rate: 0.949\n",
      "threshold = 5.69: True Positive Rate: 0.915, True Negative Rate: 0.950\n",
      "threshold = 5.70: True Positive Rate: 0.915, True Negative Rate: 0.950\n",
      "threshold = 5.71: True Positive Rate: 0.915, True Negative Rate: 0.950\n",
      "threshold = 5.72: True Positive Rate: 0.915, True Negative Rate: 0.950\n",
      "threshold = 5.73: True Positive Rate: 0.915, True Negative Rate: 0.950\n",
      "threshold = 5.74: True Positive Rate: 0.915, True Negative Rate: 0.951\n",
      "threshold = 5.75: True Positive Rate: 0.915, True Negative Rate: 0.951\n",
      "threshold = 5.76: True Positive Rate: 0.915, True Negative Rate: 0.951\n",
      "threshold = 5.77: True Positive Rate: 0.915, True Negative Rate: 0.951\n",
      "threshold = 5.78: True Positive Rate: 0.915, True Negative Rate: 0.952\n"
     ]
    }
   ],
   "source": [
    "model.eval()\n",
    "with torch.no_grad():\n",
    "    losses = []\n",
    "    true = []\n",
    "\n",
    "    for x, y in test_dataloader:\n",
    "\n",
    "        true.append(int(y[0]))\n",
    "        x = x.to(device) # GPU\n",
    "        reconstruction, _, _ = model(x)\n",
    "        loss = model.loss(reconstruction, x)\n",
    "        losses.append(loss.item())\n",
    "\n",
    "thresolds, tp_rate, tn_rate = [], [], []\n",
    "for thresh in range(1, 1000, 1):\n",
    "    tp, fp, tn, fn = 0, 0, 0, 0\n",
    "    for loss, y in zip(losses, true):\n",
    "        if loss >= (thresh / 100):\n",
    "            y_pred = 1\n",
    "        else:\n",
    "            y_pred = 0\n",
    "        \n",
    "        if y == 1 and y_pred == 1:\n",
    "            tp += 1\n",
    "        elif y == 1 and y_pred == 0:\n",
    "            fn += 1\n",
    "        elif y == 0 and y_pred == 1:\n",
    "            fp += 1\n",
    "        elif y == 0 and y_pred == 0:\n",
    "            tn += 1\n",
    "    \n",
    "    thresolds.append(thresh / 100)\n",
    "    tp_rate.append(tp / (tp + fn))\n",
    "    tn_rate.append(tn / (tn + fp))\n",
    "\n",
    "    if tp / (tp + fn) > 0.91 and tn / (tn + fp) > 0.91:\n",
    "        print(f\"threshold = {(thresh / 100):.2f}: True Positive Rate: {(tp / (tp + fn)):.3f}, True Negative Rate: {(tn / (tn + fp)):.3f}\")"
   ]
  },
  {
   "cell_type": "code",
   "execution_count": 301,
   "metadata": {},
   "outputs": [
    {
     "data": {
      "image/png": "[encoded data removed]",
      "text/plain": [
       "<Figure size 640x480 with 1 Axes>"
      ]
     },
     "metadata": {},
     "output_type": "display_data"
    }
   ],
   "source": [
    "plt.plot(thresolds, tp_rate, label=\"tp\")\n",
    "plt.plot(thresolds, tn_rate, label=\"tn\")\n",
    "plt.legend() \n",
    "plt.show()"
   ]
  },
  {
   "cell_type": "code",
   "execution_count": 302,
   "metadata": {},
   "outputs": [],
   "source": [
    "torch.save(model.state_dict(), \"./autoencoders/MyModel\")"
   ]
  }
 ],
 "metadata": {
  "kernelspec": {
   "display_name": "venv",
   "language": "python",
   "name": "python3"
  },
  "language_info": {
   "codemirror_mode": {
    "name": "ipython",
    "version": 3
   },
   "file_extension": ".py",
   "mimetype": "text/x-python",
   "name": "python",
   "nbconvert_exporter": "python",
   "pygments_lexer": "ipython3",
   "version": "3.11.6"
  }
 },
 "nbformat": 4,
 "nbformat_minor": 2
}
