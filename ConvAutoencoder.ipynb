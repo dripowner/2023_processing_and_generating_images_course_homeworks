{
 "cells": [
  {
   "cell_type": "code",
   "execution_count": 76,
   "metadata": {},
   "outputs": [],
   "source": [
    "from data_utils import CustomImageDataset\n",
    "import torch\n",
    "import os\n",
    "from torch.utils.data import DataLoader\n",
    "import torchvision.transforms as transforms\n",
    "import tqdm\n",
    "import torch.nn as nn\n",
    "import torch.nn.functional as F\n",
    "import numpy as np\n",
    "import matplotlib.pyplot as plt"
   ]
  },
  {
   "cell_type": "code",
   "execution_count": 77,
   "metadata": {},
   "outputs": [],
   "source": [
    "plt.style.use(\"ggplot\")"
   ]
  },
  {
   "cell_type": "code",
   "execution_count": 78,
   "metadata": {},
   "outputs": [],
   "source": [
    "class ConvAutoencoder(nn.Module):\n",
    "    def __init__(self, input_c=1):\n",
    "        super(ConvAutoencoder, self).__init__()\n",
    "        ## encoder layers ##\n",
    "        # conv layer (depth from 3 --> 16), 3x3 kernels\n",
    "        self.conv1 = nn.Conv2d(input_c, 16, 3, padding=1)  \n",
    "        # conv layer (depth from 16 --> 4), 3x3 kernels\n",
    "        self.conv2 = nn.Conv2d(16, 4, 3, padding=1)\n",
    "        # pooling layer to reduce x-y dims by two; kernel and stride of 2\n",
    "        self.pool = nn.MaxPool2d(2, 2)\n",
    "        \n",
    "        ## decoder layers ##\n",
    "        ## a kernel of 2 and a stride of 2 will increase the spatial dims by 2\n",
    "        self.t_conv1 = nn.ConvTranspose2d(4, 16, 2, stride=2)\n",
    "        self.t_conv2 = nn.ConvTranspose2d(16, input_c, 2, stride=2)\n",
    "\n",
    "    def forward(self, x):\n",
    "        ## encode ##\n",
    "        # add hidden layers with relu activation function\n",
    "        # and maxpooling after\n",
    "        x = F.relu(self.conv1(x))\n",
    "        x = self.pool(x)\n",
    "        # add second hidden layer\n",
    "        x = F.relu(self.conv2(x))\n",
    "        x = self.pool(x)  # compressed representation\n",
    "        \n",
    "        ## decode ##\n",
    "        # add transpose conv layers, with relu activation function\n",
    "        x = F.relu(self.t_conv1(x))\n",
    "        # output layer (with sigmoid for scaling from 0 to 1)\n",
    "        x = F.sigmoid(self.t_conv2(x))\n",
    "                \n",
    "        return x"
   ]
  },
  {
   "cell_type": "code",
   "execution_count": 79,
   "metadata": {},
   "outputs": [
    {
     "data": {
      "text/plain": [
       "<torch._C.Generator at 0x2adc4905ad0>"
      ]
     },
     "execution_count": 79,
     "metadata": {},
     "output_type": "execute_result"
    }
   ],
   "source": [
    "torch.manual_seed(0)"
   ]
  },
  {
   "cell_type": "code",
   "execution_count": 80,
   "metadata": {},
   "outputs": [
    {
     "name": "stdout",
     "output_type": "stream",
     "text": [
      "Using device: cuda\n"
     ]
    }
   ],
   "source": [
    "device = 'cuda' if torch.cuda.is_available() else 'cpu'\n",
    "print('Using device:', device)"
   ]
  },
  {
   "cell_type": "code",
   "execution_count": 81,
   "metadata": {},
   "outputs": [],
   "source": [
    "batch_size = 128"
   ]
  },
  {
   "cell_type": "code",
   "execution_count": 82,
   "metadata": {},
   "outputs": [],
   "source": [
    "# transform = transforms.Compose(\n",
    "#     [transforms.ToPILImage(),\n",
    "#      transforms.ToTensor(),\n",
    "#      transforms.Normalize(mean=(0), std=(1)),\n",
    "#      transforms.Resize((28, 28)),\n",
    "#      transforms.RandomAdjustSharpness(9, p=1),\n",
    "#      ])\n",
    "# transform = transforms.Compose(\n",
    "#     [transforms.ToPILImage(),\n",
    "#      transforms.ToTensor(),\n",
    "#      transforms.Normalize(mean=(0), std=(1)),\n",
    "#      transforms.Resize((28, 28)),\n",
    "#      transforms.RandomAdjustSharpness(9, p=1),\n",
    "#      transforms.Grayscale(1),\n",
    "#      ])\n",
    "transform = transforms.Compose(\n",
    "    [transforms.ToPILImage(),\n",
    "     transforms.ToTensor(),\n",
    "     transforms.Normalize(mean=(0), std=(1)),\n",
    "     transforms.RandomAdjustSharpness(5, p=1),\n",
    "     transforms.Resize((28, 48)),\n",
    "     transforms.CenterCrop((28, 28)),\n",
    "     transforms.GaussianBlur(3),\n",
    "     ])"
   ]
  },
  {
   "cell_type": "code",
   "execution_count": 83,
   "metadata": {},
   "outputs": [],
   "source": [
    "train_data_path = \"./homework_2_dataset/dataset/train\"\n",
    "train_dataset = CustomImageDataset(os.path.join(train_data_path, \"annotation.txt\"), os.path.join(train_data_path, \"imgs\"), transform=transform)\n",
    "train_dataloader = DataLoader(train_dataset, batch_size=batch_size, shuffle=True)"
   ]
  },
  {
   "cell_type": "code",
   "execution_count": 84,
   "metadata": {},
   "outputs": [],
   "source": [
    "proliv_data_path = \"./homework_2_dataset/dataset/proliv\"\n",
    "proliv_dataset = CustomImageDataset(os.path.join(proliv_data_path, \"annotation.txt\"), os.path.join(proliv_data_path, \"imgs\"), transform=transform)\n",
    "proliv_dataloader = DataLoader(proliv_dataset, batch_size=batch_size, shuffle=True)"
   ]
  },
  {
   "cell_type": "code",
   "execution_count": 85,
   "metadata": {},
   "outputs": [],
   "source": [
    "test_data_path = \"./homework_2_dataset/dataset/test\"\n",
    "test_dataset = CustomImageDataset(os.path.join(test_data_path, \"annotation.txt\"), os.path.join(test_data_path, \"imgs\"), transform=transform)\n",
    "test_dataloader = DataLoader(test_dataset, batch_size=1, shuffle=True)"
   ]
  },
  {
   "cell_type": "code",
   "execution_count": 86,
   "metadata": {},
   "outputs": [
    {
     "name": "stderr",
     "output_type": "stream",
     "text": [
      "  0%|          | 0/15 [00:00<?, ?it/s]"
     ]
    },
    {
     "name": "stderr",
     "output_type": "stream",
     "text": [
      "e:\\2023_processing_and_generating_images_course_homeworks\\venv\\Lib\\site-packages\\torchvision\\transforms\\functional.py:1603: UserWarning: The default value of the antialias parameter of all the resizing transforms (Resize(), RandomResizedCrop(), etc.) will change from None to True in v0.17, in order to be consistent across the PIL and Tensor backends. To suppress this warning, directly pass antialias=True (recommended, future default), antialias=None (current default, which means False for Tensors and True for PIL), or antialias=False (only works on Tensors - PIL will still use antialiasing). This also applies if you are using the inference transforms from the models weights: update the call to weights.transforms(antialias=True).\n",
      "  warnings.warn(\n",
      "  7%|▋         | 1/15 [00:11<02:36, 11.20s/it]"
     ]
    },
    {
     "name": "stdout",
     "output_type": "stream",
     "text": [
      "epoch 0: train loss 19.252864837646484, validation loss 21.946455001831055\n"
     ]
    },
    {
     "name": "stderr",
     "output_type": "stream",
     "text": [
      " 13%|█▎        | 2/15 [00:22<02:26, 11.30s/it]"
     ]
    },
    {
     "name": "stdout",
     "output_type": "stream",
     "text": [
      "epoch 1: train loss 7.9039692878723145, validation loss 16.917085647583008\n"
     ]
    },
    {
     "name": "stderr",
     "output_type": "stream",
     "text": [
      " 20%|██        | 3/15 [00:34<02:16, 11.37s/it]"
     ]
    },
    {
     "name": "stdout",
     "output_type": "stream",
     "text": [
      "epoch 2: train loss 5.423365116119385, validation loss 12.77830696105957\n"
     ]
    },
    {
     "name": "stderr",
     "output_type": "stream",
     "text": [
      " 27%|██▋       | 4/15 [00:46<02:11, 11.92s/it]"
     ]
    },
    {
     "name": "stdout",
     "output_type": "stream",
     "text": [
      "epoch 3: train loss 3.017502784729004, validation loss 9.613624572753906\n"
     ]
    },
    {
     "name": "stderr",
     "output_type": "stream",
     "text": [
      " 33%|███▎      | 5/15 [00:58<01:57, 11.80s/it]"
     ]
    },
    {
     "name": "stdout",
     "output_type": "stream",
     "text": [
      "epoch 4: train loss 2.232544183731079, validation loss 8.25042724609375\n"
     ]
    },
    {
     "name": "stderr",
     "output_type": "stream",
     "text": [
      " 40%|████      | 6/15 [01:09<01:45, 11.68s/it]"
     ]
    },
    {
     "name": "stdout",
     "output_type": "stream",
     "text": [
      "epoch 5: train loss 2.008549690246582, validation loss 7.3822221755981445\n"
     ]
    },
    {
     "name": "stderr",
     "output_type": "stream",
     "text": [
      " 47%|████▋     | 7/15 [01:21<01:32, 11.58s/it]"
     ]
    },
    {
     "name": "stdout",
     "output_type": "stream",
     "text": [
      "epoch 6: train loss 1.8648079633712769, validation loss 7.413603782653809\n"
     ]
    },
    {
     "name": "stderr",
     "output_type": "stream",
     "text": [
      " 53%|█████▎    | 8/15 [01:32<01:20, 11.47s/it]"
     ]
    },
    {
     "name": "stdout",
     "output_type": "stream",
     "text": [
      "epoch 7: train loss 1.7307658195495605, validation loss 7.292547225952148\n"
     ]
    },
    {
     "name": "stderr",
     "output_type": "stream",
     "text": [
      " 60%|██████    | 9/15 [01:43<01:08, 11.44s/it]"
     ]
    },
    {
     "name": "stdout",
     "output_type": "stream",
     "text": [
      "epoch 8: train loss 1.635240077972412, validation loss 7.001644134521484\n"
     ]
    },
    {
     "name": "stderr",
     "output_type": "stream",
     "text": [
      " 67%|██████▋   | 10/15 [01:55<00:57, 11.51s/it]"
     ]
    },
    {
     "name": "stdout",
     "output_type": "stream",
     "text": [
      "epoch 9: train loss 1.5864025354385376, validation loss 6.66953706741333\n"
     ]
    },
    {
     "name": "stderr",
     "output_type": "stream",
     "text": [
      " 73%|███████▎  | 11/15 [02:07<00:46, 11.55s/it]"
     ]
    },
    {
     "name": "stdout",
     "output_type": "stream",
     "text": [
      "epoch 10: train loss 1.564754605293274, validation loss 7.153894901275635\n"
     ]
    },
    {
     "name": "stderr",
     "output_type": "stream",
     "text": [
      " 80%|████████  | 12/15 [02:18<00:34, 11.57s/it]"
     ]
    },
    {
     "name": "stdout",
     "output_type": "stream",
     "text": [
      "epoch 11: train loss 1.5435956716537476, validation loss 7.29460334777832\n"
     ]
    },
    {
     "name": "stderr",
     "output_type": "stream",
     "text": [
      " 87%|████████▋ | 13/15 [02:30<00:23, 11.62s/it]"
     ]
    },
    {
     "name": "stdout",
     "output_type": "stream",
     "text": [
      "epoch 12: train loss 1.5215210914611816, validation loss 6.9097208976745605\n"
     ]
    },
    {
     "name": "stderr",
     "output_type": "stream",
     "text": [
      " 93%|█████████▎| 14/15 [02:42<00:11, 11.60s/it]"
     ]
    },
    {
     "name": "stdout",
     "output_type": "stream",
     "text": [
      "epoch 13: train loss 1.513570785522461, validation loss 7.056883335113525\n"
     ]
    },
    {
     "name": "stderr",
     "output_type": "stream",
     "text": [
      "100%|██████████| 15/15 [02:53<00:00, 11.57s/it]"
     ]
    },
    {
     "name": "stdout",
     "output_type": "stream",
     "text": [
      "epoch 14: train loss 1.4926124811172485, validation loss 7.1880693435668945\n"
     ]
    },
    {
     "name": "stderr",
     "output_type": "stream",
     "text": [
      "\n"
     ]
    }
   ],
   "source": [
    "model = ConvAutoencoder(input_c=3).to(device)\n",
    "opt = torch.optim.Adam(model.parameters())\n",
    "\n",
    "for epoch in tqdm.tqdm(range(15)):\n",
    "    model.train()\n",
    "    train_count = 0\n",
    "    running_loss = 0\n",
    "    for x, y in train_dataloader:\n",
    "        train_count += 1\n",
    "        x = x.to(device) # GPU\n",
    "        opt.zero_grad()\n",
    "        x_hat = model(x)\n",
    "        loss = ((x - x_hat)**2).sum()\n",
    "        running_loss += loss / batch_size\n",
    "        loss.backward()\n",
    "        opt.step()\n",
    "    \n",
    "    model.eval()\n",
    "    val_count = 0\n",
    "    val_loss = 0\n",
    "    with torch.no_grad():\n",
    "        for x, y in proliv_dataloader:\n",
    "            val_count += 1\n",
    "            x = x.to(device) # GPU\n",
    "            reconstruction = model(x)\n",
    "            loss = ((x - reconstruction)**2).sum()\n",
    "            val_loss += loss / batch_size\n",
    "    print(f\"epoch {epoch}: train loss {running_loss / train_count}, validation loss {val_loss / val_count}\")"
   ]
  },
  {
   "cell_type": "code",
   "execution_count": 87,
   "metadata": {},
   "outputs": [
    {
     "name": "stdout",
     "output_type": "stream",
     "text": [
      "choosen threshold: 2.3680000000000003\n"
     ]
    }
   ],
   "source": [
    "model.eval()\n",
    "proliv_dataloader = DataLoader(proliv_dataset, batch_size=1, shuffle=True)\n",
    "with torch.no_grad():\n",
    "    losses = []\n",
    "    true = []\n",
    "\n",
    "    for x, y in proliv_dataloader:\n",
    "\n",
    "        true.append(int(y[0]))\n",
    "        x = x.to(device) # GPU\n",
    "        reconstruction = model(x)\n",
    "        loss = ((x - reconstruction)**2).sum()\n",
    "        losses.append(loss.item())\n",
    "\n",
    "thresolds, tp_rate = [], []\n",
    "best_tresholds = []\n",
    "for thresh in range(1, 6000, 1):\n",
    "    tp, fp, tn, fn = 0, 0, 0, 0\n",
    "    for loss, y in zip(losses, true):\n",
    "        if loss >= (thresh / 100):\n",
    "            y_pred = 1\n",
    "        else:\n",
    "            y_pred = 0\n",
    "        \n",
    "        if y == 1 and y_pred == 1:\n",
    "            tp += 1\n",
    "        elif y == 1 and y_pred == 0:\n",
    "            fn += 1\n",
    "        elif y == 0 and y_pred == 1:\n",
    "            fp += 1\n",
    "        elif y == 0 and y_pred == 0:\n",
    "            tn += 1\n",
    "    \n",
    "    thresolds.append(thresh / 100)\n",
    "    tp_rate.append(tp / (tp + fn))\n",
    "\n",
    "    if tp / (tp + fn) == 1:\n",
    "        best_tresholds.append(thresh / 100)\n",
    "        # print(f\"threshold = {(thresh / 10):.2f}: True Positive Rate: {(tp / (tp + fn)):.2f}\")\n",
    "\n",
    "if len(best_tresholds) > 0:\n",
    "    print(f\"choosen threshold: {np.quantile(best_tresholds, 0.9)}\")\n",
    "else:\n",
    "    print(\"no possible thresholds\")"
   ]
  },
  {
   "cell_type": "code",
   "execution_count": 88,
   "metadata": {},
   "outputs": [
    {
     "name": "stdout",
     "output_type": "stream",
     "text": [
      "True Positive Rate: 0.84, True Negative Rate: 0.83, Threshold: 2.3680000000000003\n"
     ]
    }
   ],
   "source": [
    "\n",
    "tp, fp, tn, fn = 0, 0, 0, 0\n",
    "for x, y in test_dataloader:\n",
    "\n",
    "    x = x.to(device) # GPU\n",
    "    reconstruction = model(x)\n",
    "    loss = ((x - reconstruction)**2).sum()\n",
    "\n",
    "    if loss >= np.quantile(best_tresholds, 0.9):\n",
    "        y_pred = 1\n",
    "    else:\n",
    "        y_pred = 0\n",
    "    \n",
    "    if int(y[0]) == 1 and y_pred == 1:\n",
    "        tp += 1\n",
    "    elif int(y[0]) == 1 and y_pred == 0:\n",
    "        fn += 1\n",
    "    elif int(y[0]) == 0 and y_pred == 1:\n",
    "        fp += 1\n",
    "    elif int(y[0]) == 0 and y_pred == 0:\n",
    "        tn += 1\n",
    "    \n",
    "tp_rate = tp / (tp + fn)\n",
    "tn_rate = tn / (tn + fp)\n",
    "\n",
    "print(f\"True Positive Rate: {(tp / (tp + fn)):.2f}, True Negative Rate: {(tn / (tn + fp)):.2f}, Threshold: {np.quantile(best_tresholds, 0.9)}\")"
   ]
  },
  {
   "cell_type": "code",
   "execution_count": 89,
   "metadata": {},
   "outputs": [],
   "source": [
    "model.eval()\n",
    "with torch.no_grad():\n",
    "    losses = []\n",
    "    true = []\n",
    "\n",
    "    for x, y in test_dataloader:\n",
    "\n",
    "        true.append(int(y[0]))\n",
    "        x = x.to(device) # GPU\n",
    "        reconstruction = model(x)\n",
    "        loss = ((x - reconstruction)**2).sum()\n",
    "        losses.append(loss.item())\n",
    "\n",
    "thresolds, tp_rate, tn_rate = [], [], []\n",
    "for thresh in range(1, 6000, 1):\n",
    "    tp, fp, tn, fn = 0, 0, 0, 0\n",
    "    for loss, y in zip(losses, true):\n",
    "        if loss >= (thresh / 100):\n",
    "            y_pred = 1\n",
    "        else:\n",
    "            y_pred = 0\n",
    "        \n",
    "        if y == 1 and y_pred == 1:\n",
    "            tp += 1\n",
    "        elif y == 1 and y_pred == 0:\n",
    "            fn += 1\n",
    "        elif y == 0 and y_pred == 1:\n",
    "            fp += 1\n",
    "        elif y == 0 and y_pred == 0:\n",
    "            tn += 1\n",
    "    \n",
    "    thresolds.append(thresh / 100)\n",
    "    tp_rate.append(tp / (tp + fn))\n",
    "    tn_rate.append(tn / (tn + fp))\n",
    "\n",
    "    if tp / (tp + fn) > 0.91 and tn / (tn + fp) > 0.91:\n",
    "        print(f\"threshold = {(thresh / 100):.2f}: True Positive Rate: {(tp / (tp + fn)):.2f}, True Negative Rate: {(tn / (tn + fp)):.3f}\")"
   ]
  },
  {
   "cell_type": "code",
   "execution_count": 90,
   "metadata": {},
   "outputs": [
    {
     "data": {
      "image/png": "[encoded data removed]",
      "text/plain": [
       "<Figure size 640x480 with 1 Axes>"
      ]
     },
     "metadata": {},
     "output_type": "display_data"
    }
   ],
   "source": [
    "plt.plot(thresolds, tp_rate, label=\"tp\")\n",
    "plt.plot(thresolds, tn_rate, label=\"tn\")\n",
    "plt.legend() \n",
    "plt.show()"
   ]
  }
 ],
 "metadata": {
  "kernelspec": {
   "display_name": "venv",
   "language": "python",
   "name": "python3"
  },
  "language_info": {
   "codemirror_mode": {
    "name": "ipython",
    "version": 3
   },
   "file_extension": ".py",
   "mimetype": "text/x-python",
   "name": "python",
   "nbconvert_exporter": "python",
   "pygments_lexer": "ipython3",
   "version": "3.11.6"
  }
 },
 "nbformat": 4,
 "nbformat_minor": 2
}
