{
 "cells": [
  {
   "cell_type": "code",
   "execution_count": 1,
   "metadata": {},
   "outputs": [],
   "source": [
    "import torch\n",
    "from torchvision.models.detection.mask_rcnn import resnet50\n",
    "import torch.optim as optim\n",
    "import torch.nn as nn\n",
    "import torchvision.transforms as transforms\n",
    "from torch.utils.data import DataLoader\n",
    "from torchvision import datasets\n",
    "from torch.utils.data import random_split\n",
    "from tqdm import tqdm\n",
    "from torcheval.metrics import MulticlassF1Score, MulticlassPrecision\n",
    "from torcheval.metrics.classification import MulticlassRecall\n",
    "from models import OnlineModel\n",
    "import matplotlib.pyplot as plt\n",
    "\n",
    "from torcheval.metrics.functional import multiclass_recall, multiclass_precision, multiclass_f1_score"
   ]
  },
  {
   "cell_type": "code",
   "execution_count": 2,
   "metadata": {},
   "outputs": [],
   "source": [
    "plt.style.use(\"ggplot\")"
   ]
  },
  {
   "cell_type": "code",
   "execution_count": 3,
   "metadata": {},
   "outputs": [
    {
     "name": "stdout",
     "output_type": "stream",
     "text": [
      "Using cuda device\n"
     ]
    }
   ],
   "source": [
    "# Get cpu, gpu or mps device for training.\n",
    "device = (\n",
    "    \"cuda\"\n",
    "    if torch.cuda.is_available()\n",
    "    else \"mps\"\n",
    "    if torch.backends.mps.is_available()\n",
    "    else \"cpu\"\n",
    ")\n",
    "print(f\"Using {device} device\")"
   ]
  },
  {
   "cell_type": "code",
   "execution_count": 4,
   "metadata": {},
   "outputs": [],
   "source": [
    "batch_size = 132"
   ]
  },
  {
   "cell_type": "code",
   "execution_count": 5,
   "metadata": {},
   "outputs": [
    {
     "name": "stdout",
     "output_type": "stream",
     "text": [
      "Files already downloaded and verified\n"
     ]
    }
   ],
   "source": [
    "transform = transforms.Compose(\n",
    "    [transforms.ToTensor(),\n",
    "     transforms.Normalize((0.5, 0.5, 0.5), (0.5, 0.5, 0.5))])\n",
    "\n",
    "# CIFAR10 dataset split.\n",
    "dataset_test = datasets.CIFAR10(\n",
    "        root='data',\n",
    "        train=False,\n",
    "        download=True,\n",
    "        transform=transform,\n",
    "    )\n",
    "# Create data loaders.\n",
    "test_loader = DataLoader(\n",
    "        dataset_test, \n",
    "        batch_size=batch_size,\n",
    "        shuffle=True\n",
    "    )"
   ]
  },
  {
   "cell_type": "markdown",
   "metadata": {},
   "source": [
    "### Baseline"
   ]
  },
  {
   "cell_type": "code",
   "execution_count": 6,
   "metadata": {},
   "outputs": [],
   "source": [
    "model = resnet50()\n",
    "model.fc = nn.Linear(in_features=2048, out_features=10, bias=True)\n",
    "model.load_state_dict(torch.load(\"./weights/base\"))\n",
    "model = model.to(device)\n",
    "\n",
    "criterion = nn.CrossEntropyLoss()"
   ]
  },
  {
   "cell_type": "code",
   "execution_count": 7,
   "metadata": {},
   "outputs": [
    {
     "name": "stdout",
     "output_type": "stream",
     "text": [
      "Test\n"
     ]
    },
    {
     "name": "stderr",
     "output_type": "stream",
     "text": [
      "100%|██████████| 76/76 [00:02<00:00, 32.10it/s]"
     ]
    },
    {
     "name": "stdout",
     "output_type": "stream",
     "text": [
      "Test loss: 1.860, f1: 0.4070377836101933, p: 0.41810584185939087, r: 0.41986486315727234\n",
      "--------------------------------------------------\n",
      "TESTING COMPLETE\n"
     ]
    },
    {
     "name": "stderr",
     "output_type": "stream",
     "text": [
      "\n"
     ]
    }
   ],
   "source": [
    "\n",
    "# Start the training.\n",
    "for epoch in range(1):\n",
    "    model.eval()\n",
    "    print(\"Test\")\n",
    "    valid_epoch_loss = 0\n",
    "    counter = 0\n",
    "    val_f1 = 0.0\n",
    "    val_p = 0.0\n",
    "    val_r = 0.0\n",
    "    with torch.no_grad():\n",
    "        for i, data in tqdm(enumerate(test_loader), total=len(test_loader)):\n",
    "            counter += 1\n",
    "            # get the inputs; data is a list of [inputs, labels]\n",
    "            inputs, labels = data\n",
    "            inputs = inputs.to(device)\n",
    "            labels = labels.to(device)\n",
    "            # forward + backward + optimize\n",
    "            outputs = model(inputs)\n",
    "\n",
    "            # f1_metric.update(outputs, labels)\n",
    "            # p_metric.update(outputs, labels)\n",
    "            # r_metric.update(outputs, labels)\n",
    "            val_f1 += multiclass_f1_score(outputs, labels, num_classes=10, average=\"macro\").item()\n",
    "            val_p += multiclass_precision(outputs, labels, num_classes=10, average=\"macro\").item()\n",
    "            val_r += multiclass_recall(outputs, labels, num_classes=10, average=\"macro\").item()\n",
    "            loss = criterion(outputs, labels)\n",
    "            # print statistics\n",
    "            valid_epoch_loss += loss.item()\n",
    "\n",
    "    valid_epoch_loss = valid_epoch_loss / counter\n",
    "    val_f1 = val_f1 / counter\n",
    "    val_p = val_p / counter\n",
    "    val_r = val_r / counter\n",
    "\n",
    "    print(f\"Test loss: {valid_epoch_loss:.3f}, f1: {val_f1}, p: {val_p}, r: {val_r}\")\n",
    "    print('-'*50)\n",
    "        \n",
    "print('TESTING COMPLETE')"
   ]
  },
  {
   "cell_type": "markdown",
   "metadata": {},
   "source": [
    "### Pretrained feature extractor"
   ]
  },
  {
   "cell_type": "code",
   "execution_count": 8,
   "metadata": {},
   "outputs": [],
   "source": [
    "model = OnlineModel().encoder\n",
    "model.fc = nn.Linear(in_features=2048, out_features=10, bias=True)\n",
    "model.load_state_dict(torch.load(\"./weights/pretrained\"))\n",
    "model = model.to(device)\n",
    "\n",
    "criterion = nn.CrossEntropyLoss()"
   ]
  },
  {
   "cell_type": "code",
   "execution_count": 9,
   "metadata": {},
   "outputs": [],
   "source": [
    "# # Freeze all layers\n",
    "# for param in model.parameters():\n",
    "#     param.requires_grad = False\n",
    "\n",
    "# # Unfreeze last layer\n",
    "# for param in model.fc.parameters():\n",
    "#     param.requires_grad = True"
   ]
  },
  {
   "cell_type": "code",
   "execution_count": 10,
   "metadata": {},
   "outputs": [
    {
     "name": "stdout",
     "output_type": "stream",
     "text": [
      "Test\n"
     ]
    },
    {
     "name": "stderr",
     "output_type": "stream",
     "text": [
      "100%|██████████| 76/76 [00:03<00:00, 19.25it/s]"
     ]
    },
    {
     "name": "stdout",
     "output_type": "stream",
     "text": [
      "Test loss: 2.255, f1: 0.10257887600087806, p: 0.10109993928161107, r: 0.17410038931197241\n",
      "--------------------------------------------------\n",
      "TESTING COMPLETE\n"
     ]
    },
    {
     "name": "stderr",
     "output_type": "stream",
     "text": [
      "\n"
     ]
    }
   ],
   "source": [
    "# Start the training.\n",
    "for epoch in range(1):\n",
    "    model.eval()\n",
    "    print(\"Test\")\n",
    "    valid_epoch_loss = 0\n",
    "    counter = 0\n",
    "    val_f1 = 0.0\n",
    "    val_p = 0.0\n",
    "    val_r = 0.0\n",
    "    with torch.no_grad():\n",
    "        for i, data in tqdm(enumerate(test_loader), total=len(test_loader)):\n",
    "            counter += 1\n",
    "            # get the inputs; data is a list of [inputs, labels]\n",
    "            inputs, labels = data\n",
    "            inputs = inputs.to(device)\n",
    "            labels = labels.to(device)\n",
    "            # forward + backward + optimize\n",
    "            outputs = model(inputs)\n",
    "\n",
    "            # f1_metric.update(outputs, labels)\n",
    "            # p_metric.update(outputs, labels)\n",
    "            # r_metric.update(outputs, labels)\n",
    "            val_f1 += multiclass_f1_score(outputs, labels, num_classes=10, average=\"macro\").item()\n",
    "            val_p += multiclass_precision(outputs, labels, num_classes=10, average=\"macro\").item()\n",
    "            val_r += multiclass_recall(outputs, labels, num_classes=10, average=\"macro\").item()\n",
    "            loss = criterion(outputs, labels)\n",
    "            # print statistics\n",
    "            valid_epoch_loss += loss.item()\n",
    "\n",
    "    valid_epoch_loss = valid_epoch_loss / counter\n",
    "    val_f1 = val_f1 / counter\n",
    "    val_p = val_p / counter\n",
    "    val_r = val_r / counter\n",
    "\n",
    "    print(f\"Test loss: {valid_epoch_loss:.3f}, f1: {val_f1}, p: {val_p}, r: {val_r}\")\n",
    "    print('-'*50)\n",
    "        \n",
    "print('TESTING COMPLETE')"
   ]
  }
 ],
 "metadata": {
  "kernelspec": {
   "display_name": "venv",
   "language": "python",
   "name": "python3"
  },
  "language_info": {
   "codemirror_mode": {
    "name": "ipython",
    "version": 3
   },
   "file_extension": ".py",
   "mimetype": "text/x-python",
   "name": "python",
   "nbconvert_exporter": "python",
   "pygments_lexer": "ipython3",
   "version": "3.11.6"
  }
 },
 "nbformat": 4,
 "nbformat_minor": 2
}
