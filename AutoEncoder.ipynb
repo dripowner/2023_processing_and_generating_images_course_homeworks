{
 "cells": [
  {
   "cell_type": "code",
   "execution_count": 139,
   "metadata": {},
   "outputs": [],
   "source": [
    "from data_utils import CustomImageDataset\n",
    "import torch\n",
    "import os\n",
    "from torch.utils.data import DataLoader\n",
    "import torchvision.transforms as transforms\n",
    "import tqdm\n",
    "import torch.nn as nn\n",
    "import torch.nn.functional as F\n",
    "import numpy as np\n",
    "import matplotlib.pyplot as plt"
   ]
  },
  {
   "cell_type": "code",
   "execution_count": 140,
   "metadata": {},
   "outputs": [],
   "source": [
    "plt.style.use(\"ggplot\")"
   ]
  },
  {
   "cell_type": "code",
   "execution_count": 141,
   "metadata": {},
   "outputs": [],
   "source": [
    "class Encoder(nn.Module):\n",
    "    def __init__(self, latent_dims, input_c, input_dim):\n",
    "        super(Encoder, self).__init__()\n",
    "        self.linear1 = nn.Linear(input_c*input_dim*input_dim, 512)\n",
    "        self.linear2 = nn.Linear(512, 128)\n",
    "        self.linear3 = nn.Linear(128, latent_dims)\n",
    "\n",
    "    def forward(self, x):\n",
    "        x = torch.flatten(x, start_dim=1)\n",
    "        x = F.relu(self.linear1(x))\n",
    "        x = F.relu(self.linear2(x))\n",
    "        return self.linear3(x)\n",
    "\n",
    "\n",
    "class Decoder(nn.Module):\n",
    "    def __init__(self, latent_dims, input_c, input_dim):\n",
    "        self.input_c = input_c\n",
    "        self.input_dim = input_dim\n",
    "        super(Decoder, self).__init__()\n",
    "        self.linear1 = nn.Linear(latent_dims, 128)\n",
    "        self.linear2 = nn.Linear(128, 512)\n",
    "        self.linear3 = nn.Linear(512, input_c*input_dim*input_dim)\n",
    "        \n",
    "\n",
    "    def forward(self, z):\n",
    "        z = F.relu(self.linear1(z))\n",
    "        z = F.relu(self.linear2(z))\n",
    "        z = torch.sigmoid(self.linear3(z))\n",
    "        return z.reshape((-1, self.input_c, self.input_dim, self.input_dim))\n",
    "    \n",
    "\n",
    "class Autoencoder(nn.Module):\n",
    "    def __init__(self, latent_dims=16, input_c=1, input_dim=50):\n",
    "        super(Autoencoder, self).__init__()\n",
    "        self.encoder = Encoder(latent_dims, input_c, input_dim)\n",
    "        self.decoder = Decoder(latent_dims, input_c, input_dim)\n",
    "\n",
    "    def forward(self, x):\n",
    "        z = self.encoder(x)\n",
    "        return self.decoder(z)"
   ]
  },
  {
   "cell_type": "code",
   "execution_count": 142,
   "metadata": {},
   "outputs": [
    {
     "data": {
      "text/plain": [
       "<torch._C.Generator at 0x13465dc3dd0>"
      ]
     },
     "execution_count": 142,
     "metadata": {},
     "output_type": "execute_result"
    }
   ],
   "source": [
    "torch.manual_seed(0)"
   ]
  },
  {
   "cell_type": "code",
   "execution_count": 143,
   "metadata": {},
   "outputs": [
    {
     "name": "stdout",
     "output_type": "stream",
     "text": [
      "Using device: cuda\n"
     ]
    }
   ],
   "source": [
    "device = 'cuda' if torch.cuda.is_available() else 'cpu'\n",
    "print('Using device:', device)"
   ]
  },
  {
   "cell_type": "code",
   "execution_count": 144,
   "metadata": {},
   "outputs": [],
   "source": [
    "batch_size = 128"
   ]
  },
  {
   "cell_type": "code",
   "execution_count": 145,
   "metadata": {},
   "outputs": [],
   "source": [
    "# transform = transforms.Compose(\n",
    "#     [transforms.ToPILImage(),\n",
    "#      transforms.ToTensor(),\n",
    "#      transforms.Normalize(mean=(0), std=(1)),\n",
    "#      transforms.Resize((28, 28)),\n",
    "#      transforms.RandomAdjustSharpness(9, p=1),\n",
    "#      ])\n",
    "# transform = transforms.Compose(\n",
    "#     [transforms.ToPILImage(),\n",
    "#      transforms.ToTensor(),\n",
    "#      transforms.Normalize(mean=(0), std=(1)),\n",
    "#      transforms.Resize((28, 28)),\n",
    "#      transforms.RandomAdjustSharpness(9, p=1),\n",
    "#      transforms.Grayscale(1),\n",
    "#      ])\n",
    "transform = transforms.Compose(\n",
    "    [transforms.ToPILImage(),\n",
    "     transforms.ToTensor(),\n",
    "     transforms.Normalize(mean=(0), std=(1)),\n",
    "     transforms.RandomAdjustSharpness(5, p=1),\n",
    "     transforms.Resize((28, 48)),\n",
    "     transforms.CenterCrop((28, 28)),\n",
    "     transforms.GaussianBlur(3),\n",
    "     ])"
   ]
  },
  {
   "cell_type": "code",
   "execution_count": 146,
   "metadata": {},
   "outputs": [],
   "source": [
    "train_data_path = \"./homework_2_dataset/dataset/train\"\n",
    "train_dataset = CustomImageDataset(os.path.join(train_data_path, \"annotation.txt\"), os.path.join(train_data_path, \"imgs\"), transform=transform)\n",
    "train_dataloader = DataLoader(train_dataset, batch_size=batch_size, shuffle=True)"
   ]
  },
  {
   "cell_type": "code",
   "execution_count": 147,
   "metadata": {},
   "outputs": [],
   "source": [
    "proliv_data_path = \"./homework_2_dataset/dataset/proliv\"\n",
    "proliv_dataset = CustomImageDataset(os.path.join(proliv_data_path, \"annotation.txt\"), os.path.join(proliv_data_path, \"imgs\"), transform=transform)\n",
    "proliv_dataloader = DataLoader(proliv_dataset, batch_size=batch_size, shuffle=True)"
   ]
  },
  {
   "cell_type": "code",
   "execution_count": 148,
   "metadata": {},
   "outputs": [],
   "source": [
    "test_data_path = \"./homework_2_dataset/dataset/test\"\n",
    "test_dataset = CustomImageDataset(os.path.join(test_data_path, \"annotation.txt\"), os.path.join(test_data_path, \"imgs\"), transform=transform)\n",
    "test_dataloader = DataLoader(test_dataset, batch_size=1, shuffle=True)"
   ]
  },
  {
   "cell_type": "code",
   "execution_count": 149,
   "metadata": {},
   "outputs": [
    {
     "name": "stderr",
     "output_type": "stream",
     "text": [
      "  0%|          | 0/2 [00:00<?, ?it/s]e:\\2023_processing_and_generating_images_course_homeworks\\venv\\Lib\\site-packages\\torchvision\\transforms\\functional.py:1603: UserWarning: The default value of the antialias parameter of all the resizing transforms (Resize(), RandomResizedCrop(), etc.) will change from None to True in v0.17, in order to be consistent across the PIL and Tensor backends. To suppress this warning, directly pass antialias=True (recommended, future default), antialias=None (current default, which means False for Tensors and True for PIL), or antialias=False (only works on Tensors - PIL will still use antialiasing). This also applies if you are using the inference transforms from the models weights: update the call to weights.transforms(antialias=True).\n",
      "  warnings.warn(\n"
     ]
    },
    {
     "name": "stderr",
     "output_type": "stream",
     "text": [
      " 50%|█████     | 1/2 [00:11<00:11, 11.43s/it]"
     ]
    },
    {
     "name": "stdout",
     "output_type": "stream",
     "text": [
      "epoch 0: train loss 5.476001739501953, validation loss 15.770825386047363\n"
     ]
    },
    {
     "name": "stderr",
     "output_type": "stream",
     "text": [
      "100%|██████████| 2/2 [00:22<00:00, 11.44s/it]"
     ]
    },
    {
     "name": "stdout",
     "output_type": "stream",
     "text": [
      "epoch 1: train loss 4.149158000946045, validation loss 15.938910484313965\n"
     ]
    },
    {
     "name": "stderr",
     "output_type": "stream",
     "text": [
      "\n"
     ]
    }
   ],
   "source": [
    "model = Autoencoder(input_c=3, input_dim=28, latent_dims=16).to(device)\n",
    "opt = torch.optim.Adam(model.parameters())\n",
    "\n",
    "for epoch in tqdm.tqdm(range(2)):\n",
    "    model.train()\n",
    "    train_count = 0\n",
    "    running_loss = 0\n",
    "    for x, y in train_dataloader:\n",
    "        train_count += 1\n",
    "        x = x.to(device) # GPU\n",
    "        opt.zero_grad()\n",
    "        x_hat = model(x)\n",
    "        loss = ((x - x_hat)**2).sum()\n",
    "        running_loss += loss / batch_size\n",
    "        loss.backward()\n",
    "        opt.step()\n",
    "    \n",
    "    model.eval()\n",
    "    val_count = 0\n",
    "    val_loss = 0   \n",
    "    with torch.no_grad():\n",
    "        for x, y in proliv_dataloader:\n",
    "            val_count += 1\n",
    "            x = x.to(device) # GPU\n",
    "            reconstruction = model(x)\n",
    "            loss = ((x - reconstruction)**2).sum()\n",
    "            val_loss += loss / batch_size\n",
    "    print(f\"epoch {epoch}: train loss {running_loss / train_count}, validation loss {val_loss / val_count}\")"
   ]
  },
  {
   "cell_type": "code",
   "execution_count": 150,
   "metadata": {},
   "outputs": [
    {
     "name": "stdout",
     "output_type": "stream",
     "text": [
      "choosen threshold: 12.619\n"
     ]
    }
   ],
   "source": [
    "model.eval()\n",
    "proliv_dataloader = DataLoader(proliv_dataset, batch_size=1, shuffle=True)\n",
    "with torch.no_grad():\n",
    "    losses = []\n",
    "    true = []\n",
    "\n",
    "    for x, y in proliv_dataloader:\n",
    "\n",
    "        true.append(int(y[0]))\n",
    "        x = x.to(device) # GPU\n",
    "        reconstruction = model(x)\n",
    "        loss = ((x - reconstruction)**2).sum()\n",
    "        losses.append(loss.item())\n",
    "\n",
    "thresolds, tp_rate = [], []\n",
    "best_tresholds = []\n",
    "for thresh in range(1, 6000, 1):\n",
    "    tp, fp, tn, fn = 0, 0, 0, 0\n",
    "    for loss, y in zip(losses, true):\n",
    "        if loss >= (thresh / 100):\n",
    "            y_pred = 1\n",
    "        else:\n",
    "            y_pred = 0\n",
    "        \n",
    "        if y == 1 and y_pred == 1:\n",
    "            tp += 1\n",
    "        elif y == 1 and y_pred == 0:\n",
    "            fn += 1\n",
    "        elif y == 0 and y_pred == 1:\n",
    "            fp += 1\n",
    "        elif y == 0 and y_pred == 0:\n",
    "            tn += 1\n",
    "    \n",
    "    thresolds.append(thresh / 100)\n",
    "    tp_rate.append(tp / (tp + fn))\n",
    "\n",
    "    if tp / (tp + fn) == 1:\n",
    "        best_tresholds.append(thresh / 100)\n",
    "        # print(f\"threshold = {(thresh / 100):.2f}: True Positive Rate: {(tp / (tp + fn)):.2f}\")\n",
    "\n",
    "if len(best_tresholds) > 0:\n",
    "    print(f\"choosen threshold: {np.quantile(best_tresholds, 0.9)}\")\n",
    "else:\n",
    "    print(\"no possible thresholds\")"
   ]
  },
  {
   "cell_type": "code",
   "execution_count": 151,
   "metadata": {},
   "outputs": [
    {
     "name": "stdout",
     "output_type": "stream",
     "text": [
      "True Positive Rate: 0.969, True Negative Rate: 0.816, Threshold: 12.619\n"
     ]
    }
   ],
   "source": [
    "\n",
    "tp, fp, tn, fn = 0, 0, 0, 0\n",
    "for x, y in test_dataloader:\n",
    "\n",
    "    x = x.to(device) # GPU\n",
    "    reconstruction = model(x)\n",
    "    loss = ((x - reconstruction)**2).sum()\n",
    "\n",
    "    if loss >= np.quantile(best_tresholds, 0.9):\n",
    "        y_pred = 1\n",
    "    else:\n",
    "        y_pred = 0\n",
    "    \n",
    "    if int(y[0]) == 1 and y_pred == 1:\n",
    "        tp += 1\n",
    "    elif int(y[0]) == 1 and y_pred == 0:\n",
    "        fn += 1\n",
    "    elif int(y[0]) == 0 and y_pred == 1:\n",
    "        fp += 1\n",
    "    elif int(y[0]) == 0 and y_pred == 0:\n",
    "        tn += 1\n",
    "    \n",
    "tp_rate = tp / (tp + fn)\n",
    "tn_rate = tn / (tn + fp)\n",
    "\n",
    "print(f\"True Positive Rate: {(tp / (tp + fn)):.3f}, True Negative Rate: {(tn / (tn + fp)):.3f}, Threshold: {np.quantile(best_tresholds, 0.9)}\")"
   ]
  },
  {
   "cell_type": "code",
   "execution_count": 152,
   "metadata": {},
   "outputs": [
    {
     "name": "stdout",
     "output_type": "stream",
     "text": [
      "threshold = 14.69: True Positive Rate: 0.915, True Negative Rate: 0.910\n",
      "threshold = 14.70: True Positive Rate: 0.915, True Negative Rate: 0.911\n",
      "threshold = 14.71: True Positive Rate: 0.915, True Negative Rate: 0.911\n",
      "threshold = 14.72: True Positive Rate: 0.915, True Negative Rate: 0.912\n",
      "threshold = 14.73: True Positive Rate: 0.915, True Negative Rate: 0.912\n",
      "threshold = 14.74: True Positive Rate: 0.915, True Negative Rate: 0.912\n",
      "threshold = 14.75: True Positive Rate: 0.915, True Negative Rate: 0.912\n",
      "threshold = 14.76: True Positive Rate: 0.915, True Negative Rate: 0.912\n",
      "threshold = 14.77: True Positive Rate: 0.915, True Negative Rate: 0.912\n",
      "threshold = 14.78: True Positive Rate: 0.915, True Negative Rate: 0.912\n",
      "threshold = 14.79: True Positive Rate: 0.915, True Negative Rate: 0.912\n",
      "threshold = 14.80: True Positive Rate: 0.915, True Negative Rate: 0.913\n",
      "threshold = 14.81: True Positive Rate: 0.915, True Negative Rate: 0.913\n",
      "threshold = 14.82: True Positive Rate: 0.915, True Negative Rate: 0.913\n",
      "threshold = 14.83: True Positive Rate: 0.915, True Negative Rate: 0.913\n",
      "threshold = 14.84: True Positive Rate: 0.915, True Negative Rate: 0.914\n",
      "threshold = 14.85: True Positive Rate: 0.915, True Negative Rate: 0.915\n",
      "threshold = 14.86: True Positive Rate: 0.915, True Negative Rate: 0.915\n",
      "threshold = 14.87: True Positive Rate: 0.915, True Negative Rate: 0.915\n",
      "threshold = 14.88: True Positive Rate: 0.915, True Negative Rate: 0.915\n",
      "threshold = 14.89: True Positive Rate: 0.915, True Negative Rate: 0.915\n",
      "threshold = 14.90: True Positive Rate: 0.915, True Negative Rate: 0.916\n",
      "threshold = 14.91: True Positive Rate: 0.915, True Negative Rate: 0.916\n",
      "threshold = 14.92: True Positive Rate: 0.915, True Negative Rate: 0.916\n",
      "threshold = 14.93: True Positive Rate: 0.915, True Negative Rate: 0.917\n",
      "threshold = 14.94: True Positive Rate: 0.915, True Negative Rate: 0.917\n",
      "threshold = 14.95: True Positive Rate: 0.915, True Negative Rate: 0.917\n",
      "threshold = 14.96: True Positive Rate: 0.915, True Negative Rate: 0.918\n",
      "threshold = 14.97: True Positive Rate: 0.915, True Negative Rate: 0.918\n",
      "threshold = 14.98: True Positive Rate: 0.915, True Negative Rate: 0.918\n",
      "threshold = 14.99: True Positive Rate: 0.915, True Negative Rate: 0.919\n",
      "threshold = 15.00: True Positive Rate: 0.915, True Negative Rate: 0.919\n"
     ]
    }
   ],
   "source": [
    "model.eval()\n",
    "with torch.no_grad():\n",
    "    losses = []\n",
    "    true = []\n",
    "\n",
    "    for x, y in test_dataloader:\n",
    "\n",
    "        true.append(int(y[0]))\n",
    "        x = x.to(device) # GPU\n",
    "        reconstruction = model(x)\n",
    "        loss = ((x - reconstruction)**2).sum()\n",
    "        losses.append(loss.item())\n",
    "\n",
    "thresolds, tp_rate, tn_rate = [], [], []\n",
    "for thresh in range(1, 6000, 1):\n",
    "    tp, fp, tn, fn = 0, 0, 0, 0\n",
    "    for loss, y in zip(losses, true):\n",
    "        if loss >= (thresh / 100):\n",
    "            y_pred = 1\n",
    "        else:\n",
    "            y_pred = 0\n",
    "        \n",
    "        if y == 1 and y_pred == 1:\n",
    "            tp += 1\n",
    "        elif y == 1 and y_pred == 0:\n",
    "            fn += 1\n",
    "        elif y == 0 and y_pred == 1:\n",
    "            fp += 1\n",
    "        elif y == 0 and y_pred == 0:\n",
    "            tn += 1\n",
    "    \n",
    "    thresolds.append(thresh / 100)\n",
    "    tp_rate.append(tp / (tp + fn))\n",
    "    tn_rate.append(tn / (tn + fp))\n",
    "\n",
    "    if tp / (tp + fn) > 0.91 and tn / (tn + fp) > 0.91:\n",
    "        print(f\"threshold = {(thresh / 100):.2f}: True Positive Rate: {(tp / (tp + fn)):.3f}, True Negative Rate: {(tn / (tn + fp)):.3f}\")"
   ]
  },
  {
   "cell_type": "code",
   "execution_count": 153,
   "metadata": {},
   "outputs": [
    {
     "data": {
      "image/png": "[encoded data removed]",
      "text/plain": [
       "<Figure size 640x480 with 1 Axes>"
      ]
     },
     "metadata": {},
     "output_type": "display_data"
    }
   ],
   "source": [
    "plt.plot(thresolds, tp_rate, label=\"tp\")\n",
    "plt.plot(thresolds, tn_rate, label=\"tn\")\n",
    "plt.legend() \n",
    "plt.show()"
   ]
  },
  {
   "cell_type": "code",
   "execution_count": 154,
   "metadata": {},
   "outputs": [],
   "source": [
    "torch.save(model.state_dict(), \"./autoencoders/AE\")"
   ]
  }
 ],
 "metadata": {
  "kernelspec": {
   "display_name": "venv",
   "language": "python",
   "name": "python3"
  },
  "language_info": {
   "codemirror_mode": {
    "name": "ipython",
    "version": 3
   },
   "file_extension": ".py",
   "mimetype": "text/x-python",
   "name": "python",
   "nbconvert_exporter": "python",
   "pygments_lexer": "ipython3",
   "version": "3.11.6"
  }
 },
 "nbformat": 4,
 "nbformat_minor": 2
}
